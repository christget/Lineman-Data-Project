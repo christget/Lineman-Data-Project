{
 "cells": [
  {
   "cell_type": "markdown",
   "metadata": {},
   "source": [
    "# Thailand Food Delivery Market EDA Project"
   ]
  },
  {
   "cell_type": "markdown",
   "metadata": {},
   "source": [
    "This project aim to perform data analytics on Thialand food delivery market in restaurant section. 🧐"
   ]
  },
  {
   "cell_type": "markdown",
   "metadata": {},
   "source": [
    "## Dataset\n",
    "Thailand restaurant dataset from Lineman application, food delivery application in Thailand. This data source is available on kaggle website, [300000+ Restaurants in Southeast Asia -- Thailand](https://www.kaggle.com/datasets/polartech/300000-restaurants-in-southeast-asia-thailand)."
   ]
  },
  {
   "cell_type": "markdown",
   "metadata": {},
   "source": [
    "## Contents\n",
    "\n",
    "1. Data Wrangling.\n",
    "\n",
    "3. K-Means Clustering.\n",
    "\n",
    "4. Dimension Data Modeling."
   ]
  },
  {
   "cell_type": "markdown",
   "metadata": {},
   "source": [
    "### Import Essential Libreries"
   ]
  },
  {
   "cell_type": "code",
   "execution_count": 1,
   "metadata": {},
   "outputs": [],
   "source": [
    "import pandas as pd\n",
    "import numpy as np\n",
    "import matplotlib.pyplot as plt\n",
    "import seaborn as sns\n",
    "plt.rcParams[\"font.family\"] = \"tahoma\" # Thai front\n",
    "\n",
    "# warning hiding\n",
    "import warnings\n",
    "warnings.filterwarnings('ignore')"
   ]
  },
  {
   "cell_type": "markdown",
   "metadata": {},
   "source": [
    "### 1. Data Wrangling"
   ]
  },
  {
   "cell_type": "markdown",
   "metadata": {},
   "source": [
    "### Data Preparation and Cleaning"
   ]
  },
  {
   "cell_type": "markdown",
   "metadata": {},
   "source": [
    "Import data into workspace."
   ]
  },
  {
   "cell_type": "code",
   "execution_count": 3,
   "metadata": {},
   "outputs": [],
   "source": [
    "# import csv data\n",
    "raw = pd.read_csv(\"Datasets/Lineman_Shops.csv\")"
   ]
  },
  {
   "cell_type": "markdown",
   "metadata": {},
   "source": [
    "Take a first look of the data set."
   ]
  },
  {
   "cell_type": "code",
   "execution_count": 3,
   "metadata": {},
   "outputs": [
    {
     "name": "stdout",
     "output_type": "stream",
     "text": [
      "shape: (316192, 28)\n"
     ]
    },
    {
     "data": {
      "text/html": [
       "<div>\n",
       "<style scoped>\n",
       "    .dataframe tbody tr th:only-of-type {\n",
       "        vertical-align: middle;\n",
       "    }\n",
       "\n",
       "    .dataframe tbody tr th {\n",
       "        vertical-align: top;\n",
       "    }\n",
       "\n",
       "    .dataframe thead th {\n",
       "        text-align: right;\n",
       "    }\n",
       "</style>\n",
       "<table border=\"1\" class=\"dataframe\">\n",
       "  <thead>\n",
       "    <tr style=\"text-align: right;\">\n",
       "      <th></th>\n",
       "      <th>TID</th>\n",
       "      <th>id</th>\n",
       "      <th>gid</th>\n",
       "      <th>id_source</th>\n",
       "      <th>name</th>\n",
       "      <th>distance</th>\n",
       "      <th>cuisine</th>\n",
       "      <th>price_level</th>\n",
       "      <th>lat</th>\n",
       "      <th>lon</th>\n",
       "      <th>image_url</th>\n",
       "      <th>category</th>\n",
       "      <th>category_international</th>\n",
       "      <th>opening_hours</th>\n",
       "      <th>id_chain</th>\n",
       "      <th>name_chain</th>\n",
       "      <th>reviews_nr</th>\n",
       "      <th>rating</th>\n",
       "      <th>address</th>\n",
       "      <th>facebook</th>\n",
       "      <th>phone</th>\n",
       "      <th>email</th>\n",
       "      <th>url</th>\n",
       "      <th>RunID</th>\n",
       "      <th>RunDate</th>\n",
       "      <th>InsertUpdateTime</th>\n",
       "      <th>searched_lat</th>\n",
       "      <th>searched_lon</th>\n",
       "    </tr>\n",
       "  </thead>\n",
       "  <tbody>\n",
       "    <tr>\n",
       "      <th>0</th>\n",
       "      <td>2577</td>\n",
       "      <td>216531.0</td>\n",
       "      <td>09VwpBTRUiuSWzlHXurkDECu4nYpEF</td>\n",
       "      <td>216531Ae</td>\n",
       "      <td>Mister Donut นราธิวาส</td>\n",
       "      <td>56400.107069</td>\n",
       "      <td>ของหวาน/เบเกอรี/เค้ก</td>\n",
       "      <td>ต่ำกว่า 100 บาท</td>\n",
       "      <td>6.434885</td>\n",
       "      <td>101.824171</td>\n",
       "      <td>https://img.wongnai.com/p/_-x_/2015/11/30/ae2e...</td>\n",
       "      <td>ของหวาน/เบเกอรี/เค้ก</td>\n",
       "      <td>Dessert/Bakery/Cake</td>\n",
       "      <td>{'open': True, 'message': 'จนถึง 17:00', 'temp...</td>\n",
       "      <td>10.0</td>\n",
       "      <td>Mister Donut (มิสเตอร์ โดนัท)</td>\n",
       "      <td>2</td>\n",
       "      <td>3.09</td>\n",
       "      <td>{'street': '4136', 'hint': 'ร้านอยู่ติดกับเซเว...</td>\n",
       "      <td>https://www.facebook.com/MisterDonutThailand/</td>\n",
       "      <td>084-751-6497</td>\n",
       "      <td>NaN</td>\n",
       "      <td>https://www.wongnai.com/delivery/businesses/21...</td>\n",
       "      <td>36543</td>\n",
       "      <td>2021-06-29 11:55:33</td>\n",
       "      <td>2021-06-29 11:55:41</td>\n",
       "      <td>5.9333</td>\n",
       "      <td>101.9</td>\n",
       "    </tr>\n",
       "    <tr>\n",
       "      <th>1</th>\n",
       "      <td>2578</td>\n",
       "      <td>732344.0</td>\n",
       "      <td>09VxKVu1ExiIGx68FoCs2bzPMsiZFO</td>\n",
       "      <td>732344qz</td>\n",
       "      <td>เตี๋ยวตุ๋นมั้ย by Kunla</td>\n",
       "      <td>58042.506818</td>\n",
       "      <td>ก๋วยเตี๋ยว</td>\n",
       "      <td>ต่ำกว่า 100 บาท</td>\n",
       "      <td>6.447599</td>\n",
       "      <td>101.810208</td>\n",
       "      <td>https://img.wongnai.com/p/_-x_/2021/06/09/39f7...</td>\n",
       "      <td>ก๋วยเตี๋ยว</td>\n",
       "      <td>Noodles</td>\n",
       "      <td>{'open': False, 'message': 'จะเปิดในวันที่ 1 ก...</td>\n",
       "      <td>NaN</td>\n",
       "      <td>NaN</td>\n",
       "      <td>1</td>\n",
       "      <td>0.00</td>\n",
       "      <td>{'street': '4136, Khok Khian, Amphoe Mueang Na...</td>\n",
       "      <td>https://www.facebook.com/เตี๋ยวตุ๋นมั้ยby-kunl...</td>\n",
       "      <td>0864983302</td>\n",
       "      <td>NaN</td>\n",
       "      <td>https://www.wongnai.com/delivery/businesses/73...</td>\n",
       "      <td>36543</td>\n",
       "      <td>2021-06-29 11:55:33</td>\n",
       "      <td>2021-06-29 11:55:41</td>\n",
       "      <td>5.9333</td>\n",
       "      <td>101.9</td>\n",
       "    </tr>\n",
       "  </tbody>\n",
       "</table>\n",
       "</div>"
      ],
      "text/plain": [
       "    TID        id                             gid id_source  \\\n",
       "0  2577  216531.0  09VwpBTRUiuSWzlHXurkDECu4nYpEF  216531Ae   \n",
       "1  2578  732344.0  09VxKVu1ExiIGx68FoCs2bzPMsiZFO  732344qz   \n",
       "\n",
       "                      name      distance               cuisine  \\\n",
       "0    Mister Donut นราธิวาส  56400.107069  ของหวาน/เบเกอรี/เค้ก   \n",
       "1  เตี๋ยวตุ๋นมั้ย by Kunla  58042.506818            ก๋วยเตี๋ยว   \n",
       "\n",
       "       price_level       lat         lon  \\\n",
       "0  ต่ำกว่า 100 บาท  6.434885  101.824171   \n",
       "1  ต่ำกว่า 100 บาท  6.447599  101.810208   \n",
       "\n",
       "                                           image_url              category  \\\n",
       "0  https://img.wongnai.com/p/_-x_/2015/11/30/ae2e...  ของหวาน/เบเกอรี/เค้ก   \n",
       "1  https://img.wongnai.com/p/_-x_/2021/06/09/39f7...            ก๋วยเตี๋ยว   \n",
       "\n",
       "  category_international                                      opening_hours  \\\n",
       "0    Dessert/Bakery/Cake  {'open': True, 'message': 'จนถึง 17:00', 'temp...   \n",
       "1                Noodles  {'open': False, 'message': 'จะเปิดในวันที่ 1 ก...   \n",
       "\n",
       "   id_chain                     name_chain  reviews_nr  rating  \\\n",
       "0      10.0  Mister Donut (มิสเตอร์ โดนัท)           2    3.09   \n",
       "1       NaN                            NaN           1    0.00   \n",
       "\n",
       "                                             address  \\\n",
       "0  {'street': '4136', 'hint': 'ร้านอยู่ติดกับเซเว...   \n",
       "1  {'street': '4136, Khok Khian, Amphoe Mueang Na...   \n",
       "\n",
       "                                            facebook         phone email  \\\n",
       "0      https://www.facebook.com/MisterDonutThailand/  084-751-6497   NaN   \n",
       "1  https://www.facebook.com/เตี๋ยวตุ๋นมั้ยby-kunl...    0864983302   NaN   \n",
       "\n",
       "                                                 url  RunID  \\\n",
       "0  https://www.wongnai.com/delivery/businesses/21...  36543   \n",
       "1  https://www.wongnai.com/delivery/businesses/73...  36543   \n",
       "\n",
       "               RunDate     InsertUpdateTime  searched_lat  searched_lon  \n",
       "0  2021-06-29 11:55:33  2021-06-29 11:55:41        5.9333         101.9  \n",
       "1  2021-06-29 11:55:33  2021-06-29 11:55:41        5.9333         101.9  "
      ]
     },
     "metadata": {},
     "output_type": "display_data"
    }
   ],
   "source": [
    "print(\"shape: \"+ str(raw.shape))\n",
    "display(raw.head(2))"
   ]
  },
  {
   "cell_type": "code",
   "execution_count": 114,
   "metadata": {},
   "outputs": [
    {
     "name": "stdout",
     "output_type": "stream",
     "text": [
      "<class 'pandas.core.frame.DataFrame'>\n",
      "RangeIndex: 316192 entries, 0 to 316191\n",
      "Data columns (total 28 columns):\n",
      " #   Column                  Non-Null Count   Dtype  \n",
      "---  ------                  --------------   -----  \n",
      " 0   TID                     316192 non-null  int64  \n",
      " 1   id                      316191 non-null  float64\n",
      " 2   gid                     316191 non-null  object \n",
      " 3   id_source               316192 non-null  object \n",
      " 4   name                    315826 non-null  object \n",
      " 5   distance                316192 non-null  float64\n",
      " 6   cuisine                 316191 non-null  object \n",
      " 7   price_level             185049 non-null  object \n",
      " 8   lat                     316192 non-null  float64\n",
      " 9   lon                     316192 non-null  float64\n",
      " 10  image_url               316192 non-null  object \n",
      " 11  category                316191 non-null  object \n",
      " 12  category_international  316191 non-null  object \n",
      " 13  opening_hours           298695 non-null  object \n",
      " 14  id_chain                18306 non-null   float64\n",
      " 15  name_chain              18306 non-null   object \n",
      " 16  reviews_nr              316192 non-null  int64  \n",
      " 17  rating                  291473 non-null  float64\n",
      " 18  address                 316192 non-null  object \n",
      " 19  facebook                54685 non-null   object \n",
      " 20  phone                   316192 non-null  object \n",
      " 21  email                   59785 non-null   object \n",
      " 22  url                     316192 non-null  object \n",
      " 23  RunID                   316192 non-null  int64  \n",
      " 24  RunDate                 316192 non-null  object \n",
      " 25  InsertUpdateTime        316192 non-null  object \n",
      " 26  searched_lat            316192 non-null  float64\n",
      " 27  searched_lon            316192 non-null  float64\n",
      "dtypes: float64(8), int64(3), object(17)\n",
      "memory usage: 67.5+ MB\n",
      "None\n"
     ]
    }
   ],
   "source": [
    "print(raw.info())"
   ]
  },
  {
   "cell_type": "markdown",
   "metadata": {},
   "source": [
    "From the table above I list essential columns below that will be emphasized in further analyses:\n",
    "- **`name`** : restaurant names.\n",
    "\n",
    "- **`price_level`** : restaurant price levels.\n",
    "\n",
    "- **`category_international`** : english version of restaurant cetegories.\n",
    "\n",
    "- **`name_chain`** : name of restaurant with chain (if NA means not part of the chain).\n",
    "\n",
    "- **`reviews_nr`** : total number of reviews restaurant received.\n",
    "\n",
    "- **`rating`** : average rating (if Na means 0 rating).\n",
    "\n",
    "- **`address`** : restaurant location (json format but stored in string)."
   ]
  },
  {
   "cell_type": "markdown",
   "metadata": {},
   "source": [
    "As the first look\n",
    "- there is a redundancy in `[\"cusine\", \"category\", \"category_international\"]` columns, so I decided to select `category` column which give me more explicit meaning.\n",
    "\n",
    "- The data points in the `\"address\"` column are json in string format which need to be adjusted.\n",
    "\n",
    "- There are only two true numeric columns, `\"reviews_nr\"` and `\"rating\"` in the dataset.\n",
    "\n",
    "- There are some columns that contain missing values."
   ]
  },
  {
   "cell_type": "code",
   "execution_count": 20,
   "metadata": {},
   "outputs": [
    {
     "name": "stdout",
     "output_type": "stream",
     "text": [
      "gid column\n",
      "['09VwpBTRUiuSWzlHXurkDECu4nYpEF' '09VxKVu1ExiIGx68FoCs2bzPMsiZFO'\n",
      " '09VwpBTRUiEFkHTjgOg3ZREG5QyNlm' ... '09VxSWqaD8PtfGOtfUPo1kyFXypISn'\n",
      " '09VxSRRDjUqfPcvfF13bvGStEPv1xi' '09VxSWdIohbATkxyJWJyoVQXBWGgAS']\n",
      "unique value: 316182\n",
      "--------------------------------------------------\n",
      "id_source column\n",
      "['216531Ae' '732344qz' '239153lC' ... '1008518Qa' '1004975HD' '1008285fS']\n",
      "unique value: 316183\n",
      "--------------------------------------------------\n",
      "name column\n",
      "['Mister Donut นราธิวาส' 'เตี๋ยวตุ๋นมั้ย by Kunla' 'ข้าวขาหมูวอสเบียน' ...\n",
      " 'ครัวน้องเก้า ( ข้าวมันไก่' \"แซ่บE'เม้าส์\" 'หมูกะทะ สุมาลี']\n",
      "unique value: 305110\n",
      "--------------------------------------------------\n",
      "cuisine column\n",
      "['ของหวาน/เบเกอรี/เค้ก' 'ก๋วยเตี๋ยว' 'อาหารจานเดียว' ...\n",
      " 'อาหารจานเดียว/ร้านริมน้ำ' 'อาหารฟิวชั่น/อาหารญี่ปุ่น/เบเกอรี/เค้ก'\n",
      " 'อาหารนานาชาติ/Food Truck/อาหารเช้า']\n",
      "unique value: 9496\n",
      "--------------------------------------------------\n",
      "price_level column\n",
      "['ต่ำกว่า 100 บาท' nan '101 - 250 บาท' '251 - 500 บาท' '501 - 1,000 บาท'\n",
      " 'มากกว่า 1,000 บาท' '101 - 250 baht' '251 - 500 baht']\n",
      "unique value: 7\n",
      "--------------------------------------------------\n",
      "image_url column\n",
      "['https://img.wongnai.com/p/_-x_/2015/11/30/ae2e789daf314b82be9f32eb20e8b839.jpg'\n",
      " 'https://img.wongnai.com/p/_-x_/2021/06/09/39f767a8ece24dd799e49a6cdb867fa2.jpg'\n",
      " 'https://img.wongnai.com/p/_-x_/2021/04/25/c20bce89274d448ba88b02f495b7a67f.jpg'\n",
      " ...\n",
      " 'https://img.wongnai.com/p/_-x_/2021/07/12/1ce61e63e5e34682827a933d13b6a9b1.jpg'\n",
      " 'https://img.wongnai.com/p/_-x_/2021/07/15/86c65bc85e414db2b019fabb6e719a06.jpg'\n",
      " 'https://img.wongnai.com/p/_-x_/2021/07/12/34818e3b14b041b0931256a1a0d1d379.jpg']\n",
      "unique value: 296332\n",
      "--------------------------------------------------\n",
      "category column\n",
      "['ของหวาน/เบเกอรี/เค้ก' 'ก๋วยเตี๋ยว' 'อาหารจานเดียว' ...\n",
      " 'อาหารจานเดียว/ร้านริมน้ำ' 'อาหารฟิวชั่น/อาหารญี่ปุ่น/เบเกอรี/เค้ก'\n",
      " 'อาหารนานาชาติ/Food Truck/อาหารเช้า']\n",
      "unique value: 9496\n",
      "--------------------------------------------------\n",
      "category_international column\n",
      "['Dessert/Bakery/Cake' 'Noodles' 'Rice Dish' ... 'Rice Dish/Riverside'\n",
      " 'Fusion Food/Japanese/Bakery/Cake'\n",
      " 'International Food/Food Truck/Breakfast/Brunch']\n",
      "unique value: 9491\n",
      "--------------------------------------------------\n",
      "opening_hours column\n",
      "[\"{'open': True, 'message': 'จนถึง 17:00', 'temporaryCloseStartDate': None, 'temporaryCloseEndDate': None, 'closingSoon': False}\"\n",
      " \"{'open': False, 'message': 'จะเปิดในวันที่ 1 ก.ค. 2021 เวลา 10:30', 'temporaryCloseStartDate': {'iso': '2021-06-24T06:47:06+07:00', 'full': 'พฤ., 24 มิ.ย. 2021 06:47:06', 'timePassed': 'เมื่อ 5 วันที่แล้ว'}, 'temporaryCloseEndDate': {'iso': '2021-06-30T06:47:06+07:00', 'full': 'พ., 30 มิ.ย. 2021 06:47:06', 'timePassed': 'สักครู่ที่ผ่านมา'}, 'closingSoon': False}\"\n",
      " \"{'open': True, 'message': 'จนถึง 15:00', 'temporaryCloseStartDate': None, 'temporaryCloseEndDate': None, 'closingSoon': False}\"\n",
      " ...\n",
      " \"{'open': False, 'message': 'opens on Monday at 11:00', 'closingTime': '2021-07-23T23:59:00+07:00'}\"\n",
      " \"{'open': True, 'message': '24 hours', 'closingTime': '2021-07-23T23:59:00+07:00'}\"\n",
      " \"{'open': True, 'message': 'until 18:00', 'closingTime': '2021-07-23T18:00:00+07:00'}\"]\n",
      "unique value: 17585\n",
      "--------------------------------------------------\n",
      "name_chain column\n",
      "['Mister Donut (มิสเตอร์ โดนัท)' nan 'Dairy Queen (แดรี่ควีน)' ...\n",
      " 'JW marriott' 'Danube The Best Coffee' 'MK Gold']\n",
      "unique value: 2072\n",
      "--------------------------------------------------\n",
      "address column\n",
      "[\"{'street': '4136', 'hint': 'ร้านอยู่ติดกับเซเว่นหน้าซุปเปอร์ 4 ดีพาร์ทเมนท์สโตร์', 'subDistrict': {'id': 3333, 'name': 'บางนาค'}, 'district': {'id': 3332, 'name': 'เมืองนราธิวาส'}, 'city': {'id': 3331, 'name': 'นราธิวาส'}}\"\n",
      " \"{'street': '4136, Khok Khian, Amphoe Mueang Narathiwat, Narathiwat, 96000, Thailand', 'hint': '', 'subDistrict': {'id': 3333, 'name': 'บางนาค'}, 'district': {'id': 3332, 'name': 'เมืองนราธิวาส'}, 'city': {'id': 3331, 'name': 'นราธิวาส'}}\"\n",
      " \"{'street': '9/7 ถนนวอสเบียน ตำบลบางนาค อำเภอเมืองนราธิวาส นราธิวาส 96000 ประเทศไทย', 'hint': '', 'subDistrict': {'id': 3333, 'name': 'บางนาค'}, 'district': {'id': 3332, 'name': 'เมืองนราธิวาส'}, 'city': {'id': 3331, 'name': 'นราธิวาส'}}\"\n",
      " ...\n",
      " \"{'street': '586/73 หมู่ 2 เทศบาลบางปู 77 ตำบล บางปูใหม่ อำเภอเมืองสมุทรปราการ สมุทรปราการ ประเทศไทย', 'hint': '', 'subDistrict': {'id': 938, 'name': 'บางปูใหม่'}, 'district': {'id': 932, 'name': 'เมืองสมุทรปราการ'}, 'city': {'id': 931, 'name': 'สมุทรปราการ'}}\"\n",
      " \"{'street': '25/2 ถนนบ้านคลองหลวง หมู่ ๑ ตำบล บ้านบ่อ อำเภอเมืองสมุทรสาคร สมุทรสาคร ประเทศไทย', 'hint': '', 'subDistrict': {'id': 6775, 'name': 'บ้านบ่อ'}, 'district': {'id': 6771, 'name': 'เมืองสมุทรสาคร'}, 'city': {'id': 6770, 'name': 'สมุทรสาคร'}}\"\n",
      " \"{'street': 'มบ.พฤกษา143 1000/243 ตำบล บางปูใหม่ อำเภอเมืองสมุทรปราการ สมุทรปราการ ประเทศไทย', 'hint': '', 'subDistrict': {'id': 938, 'name': 'บางปูใหม่'}, 'district': {'id': 932, 'name': 'เมืองสมุทรปราการ'}, 'city': {'id': 931, 'name': 'สมุทรปราการ'}}\"]\n",
      "unique value: 277826\n",
      "--------------------------------------------------\n",
      "facebook column\n",
      "['https://www.facebook.com/MisterDonutThailand/'\n",
      " 'https://www.facebook.com/เตี๋ยวตุ๋นมั้ยby-kunla-114402040462352/' nan\n",
      " ... 'https://www.facebook.com/barberack'\n",
      " 'https://www.facebook.com/icebearhomemade'\n",
      " 'https://www.facebook.com/Https://www.facebook.com/nukoy.ja.71/']\n",
      "unique value: 45917\n",
      "--------------------------------------------------\n",
      "phone column\n",
      "['084-751-6497' '0864983302' '073700179' ... 886980626 962858349 619824239]\n",
      "unique value: 298941\n",
      "--------------------------------------------------\n",
      "email column\n",
      "[nan 'rinrada.sangthong@gmail.com' 'worapan.gift5545@gmail.com' ...\n",
      " 'maleemas10@icloud.com' 'walkonmyway@outlook.com'\n",
      " 'Atjanapradongnate@gmail.com']\n",
      "unique value: 57062\n",
      "--------------------------------------------------\n",
      "url column\n",
      "['https://www.wongnai.com/delivery/businesses/216531Ae'\n",
      " 'https://www.wongnai.com/delivery/businesses/732344qz'\n",
      " 'https://www.wongnai.com/delivery/businesses/239153lC' ...\n",
      " 'https://www.wongnai.com/delivery/businesses/1008518Qa'\n",
      " 'https://www.wongnai.com/delivery/businesses/1004975HD'\n",
      " 'https://www.wongnai.com/delivery/businesses/1008285fS']\n",
      "unique value: 316183\n",
      "--------------------------------------------------\n",
      "RunDate column\n",
      "['2021-06-29 11:55:33' '2021-07-14 08:16:06' '2021-07-14 08:52:19'\n",
      " '2021-07-14 10:51:18' '2021-07-15 18:45:02' '2021-07-16 08:35:56'\n",
      " '2021-07-17 11:56:03' '2021-07-19 08:58:07' '2021-07-19 15:01:24'\n",
      " '2021-07-20 21:33:35' '2021-07-21 09:54:56' '2021-07-21 11:13:51'\n",
      " '2021-07-22 15:55:02']\n",
      "unique value: 13\n",
      "--------------------------------------------------\n",
      "InsertUpdateTime column\n",
      "['2021-06-29 11:55:41' '2021-06-29 11:55:42' '2021-06-29 11:55:43' ...\n",
      " '2021-07-23 08:37:02' '2021-07-23 08:37:04' '2021-07-23 08:37:06']\n",
      "unique value: 39978\n",
      "--------------------------------------------------\n"
     ]
    }
   ],
   "source": [
    "# list unique values in each object column.\n",
    "for col in raw.select_dtypes(\"object\").columns:\n",
    "    print(col, \"column\")\n",
    "    print(raw[col].unique())\n",
    "    print(\"unique value: \" +  str(raw[col].nunique()))\n",
    "    print(\"-\" * 50)"
   ]
  },
  {
   "cell_type": "markdown",
   "metadata": {},
   "source": [
    "The `\"gid\"` column\n",
    "- There are 10 duplicated data points due to different rows numbers to the original dataset.\n",
    "\n",
    "The `\"price_level` column \n",
    "- There are actual 5 price levels, because data duplication, `(levels \"251-500 bath\" & \"101-250 bath\" and '101 - 250 บาท' '251 - 500 บาท' they are share the same meaning)`. So I will convert all the price level into english version.\n",
    "\n"
   ]
  },
  {
   "cell_type": "markdown",
   "metadata": {},
   "source": [
    "#### Data transformation\n",
    "- new column for `\"address\"` columns by extracting specific data, province, district, and sub-district.\n",
    "\n",
    "- translate the province's name from Thai to English for later visualization.\n",
    "\n",
    "- column `\"region\"` to group the restaurant by regions.\n",
    "\n",
    "- create new categorical column `name_chain` to distinguish the restaurants that are part of the chain.\n",
    "\n",
    "- identify the restaurant that received actual 0 rating and reviews.\n",
    "\n",
    "- convert price level from Thai to English to fix the redundancy issue."
   ]
  },
  {
   "cell_type": "markdown",
   "metadata": {},
   "source": [
    "separate chain and typical restaurants."
   ]
  },
  {
   "cell_type": "code",
   "execution_count": 4,
   "metadata": {},
   "outputs": [],
   "source": [
    "# create new column to subtitude the \"name_chain\" column\n",
    "raw[\"restaurant_type\"] = raw[\"name_chain\"].apply(lambda x: \"Chain\" if type(x) == str else \"Typical\")"
   ]
  },
  {
   "cell_type": "markdown",
   "metadata": {},
   "source": [
    "extract province, disctrict, and sub-district from the address column."
   ]
  },
  {
   "cell_type": "code",
   "execution_count": 5,
   "metadata": {},
   "outputs": [],
   "source": [
    "# extract province, sub-district, and district in address column\n",
    "subDistrict= r\"'subDistrict': {'id': \\d+, 'name': '(.*?)'}\"\n",
    "district = r\"'district': {'id': \\d+, 'name': '(.*?)'}\"\n",
    "raw[\"sub_district\"] = raw['address'].str.extract(subDistrict)\n",
    "raw[\"district\"] = raw[\"address\"].str.extract(district)\n",
    "raw[\"province\"] = raw[\"address\"].str.extract(\"'city': {'id': \\d+, 'name': '([^']+)'}\")"
   ]
  },
  {
   "cell_type": "markdown",
   "metadata": {},
   "source": [
    "group a restaurant by regions."
   ]
  },
  {
   "cell_type": "code",
   "execution_count": 6,
   "metadata": {},
   "outputs": [],
   "source": [
    "# create function for geting regions by detecting the provinces\n",
    "def get_region(city):\n",
    "    province_data = {\n",
    "        \"Eastern\": [\n",
    "            \"อำนาจเจริญ\", \"บึงกาฬ\", \"บุรีรัมย์\", \"ชัยภูมิ\", \"กาฬสินธุ์\", \n",
    "            \"ขอนแก่น\", \"เลย\", \"มหาสารคาม\", \"มุกดาหาร\", \"นครพนม\", \n",
    "            \"นครราชสีมา\", \"หนองบัวลำภู\", \"หนองคาย\", \"ร้อยเอ็ด\", \n",
    "            \"สกลนคร\", \"ศรีสะเกษ\", \"สุรินทร์\", \"อุบลราชธานี\", \"อุดรธานี\", \"ยโสธร\"\n",
    "        ],\n",
    "        \"Northern\": [\n",
    "            \"เชียงใหม่\", \"เชียงราย\", \"ลำปาง\", \"ลำพูน\", \"แม่ฮ่องสอน\",\n",
    "            \"น่าน\", \"พะเยา\", \"แพร่\", \"อุตรดิตถ์\", \"ตาก\",\n",
    "            \"สุโขทัย\", \"พิษณุโลก\", \"พิจิตร\", \"กำแพงเพชร\", \"เพชรบูรณ์\",\n",
    "            \"นครสวรรค์\", \"อุทัยธานี\"\n",
    "        ],\n",
    "        \"Central\": [\n",
    "            \"อ่างทอง\", \"ชัยนาท\", \"พระนครศรีอยุธยา\", \"ลพบุรี\",\n",
    "            \"นครปฐม\", \"นนทบุรี\", \"ปทุมธานี\", \"สมุทรปราการ\", \"สมุทรสาคร\",\n",
    "            \"สมุทรสงคราม\", \"สระบุรี\", \"สิงห์บุรี\", \"สุพรรณบุรี\", \"นครนายก\",\n",
    "            \"ฉะเชิงเทรา\", \"จันทบุรี\", \"ชลบุรี\", \"ปราจีนบุรี\", \"ระยอง\",\n",
    "            \"สระแก้ว\", \"ตราด\", \"กาญจนบุรี\", \"ราชบุรี\", \"เพชรบุรี\", \"ประจวบคีรีขันธ์\"\n",
    "        ],\n",
    "        \"Southern\": [\n",
    "            \"ชุมพร\", \"นครศรีธรรมราช\", \"นราธิวาส\", \"ปัตตานี\", \"พัทลุง\",\n",
    "            \"สงขลา\", \"สุราษฎร์ธานี\", \"ยะลา\", \"กระบี่\", \"พังงา\",\n",
    "            \"ภูเก็ต\", \"ระนอง\", \"สตูล\", \"ตรัง\"\n",
    "        ],\n",
    "        \"Bangkok\": [\"กรุงเทพมหานคร\", \"Bangkok\"]\n",
    "    }\n",
    "\n",
    "    for region, provinces in province_data.items():\n",
    "        if city in provinces:\n",
    "            return region\n",
    "\n",
    "    return np.nan\n",
    "\n",
    "# Apply the get_region function to the \"city\" column\n",
    "raw[\"region\"] = raw[\"province\"].apply(get_region)"
   ]
  },
  {
   "cell_type": "markdown",
   "metadata": {},
   "source": [
    "translate the province column from Thai to English."
   ]
  },
  {
   "cell_type": "code",
   "execution_count": 7,
   "metadata": {},
   "outputs": [],
   "source": [
    "# list for Thai-Eng province mapping\n",
    "province_mapping = {\n",
    "    'กระบี่': 'Krabi',\n",
    "    'กรุงเทพมหานคร': 'Bangkok Metropolis',\n",
    "    'กาญจนบุรี': 'Kanchanaburi',\n",
    "    'กาฬสินธุ์': 'Kalasin',\n",
    "    'กำแพงเพชร': 'Kamphaeng Phet',\n",
    "    'ขอนแก่น': 'Khon Kaen',\n",
    "    'จันทบุรี': 'Chanthaburi',\n",
    "    'ฉะเชิงเทรา': 'Chachoengsao',\n",
    "    'ชลบุรี': 'Chon buri',\n",
    "    'ชัยนาท': 'Chai Nat',\n",
    "    'ชัยภูมิ': 'Chaiyaphum',\n",
    "    'ชุมพร': 'Chumphon',\n",
    "    'ตรัง': 'Trang',\n",
    "    'ตราด': 'Trat',\n",
    "    'ตาก': 'Tak',\n",
    "    'นครนายก': 'Nakhon Nayok',\n",
    "    'นครปฐม': 'Nakhon Pathom',\n",
    "    'นครพนม': 'Nakhon Phanom',\n",
    "    'นครราชสีมา': 'Nakhon Ratchasima',\n",
    "    'นครศรีธรรมราช': 'Nakhon Si Thammarat',\n",
    "    'นครสวรรค์': 'Nakhon Sawan',\n",
    "    'นนทบุรี': 'Nonthaburi',\n",
    "    'นราธิวาส': 'Narathiwat',\n",
    "    'น่าน': 'Nan',\n",
    "    'บึงกาฬ': 'Bueng Kan',\n",
    "    'บุรีรัมย์': 'Buri Ram',\n",
    "    'ปทุมธานี': 'Pathum Thani',\n",
    "    'ประจวบคีรีขันธ์': 'Prachuap Khiri Khan',\n",
    "    'ปราจีนบุรี': 'Prachin Buri',\n",
    "    'ปัตตานี': 'Pattani',\n",
    "    'พระนครศรีอยุธยา': 'Phra Nakhon Si Ayutthaya',\n",
    "    'พะเยา': 'Phayao',\n",
    "    'พังงา': 'Phangnga',\n",
    "    'พัทลุง': 'Phatthalung',\n",
    "    'พิจิตร': 'Phichit',\n",
    "    'พิษณุโลก': 'Phitsanulok',\n",
    "    'เพชรบุรี': 'Phetchaburi',\n",
    "    'เพชรบูรณ์': 'Phetchabun',\n",
    "    'แพร่': 'Phrae',\n",
    "    'ภูเก็ต': 'Phuket',\n",
    "    'มหาสารคาม': 'Maha Sarakham',\n",
    "    'มุกดาหาร': 'Mukdahan',\n",
    "    'แม่ฮ่องสอน': 'Mae Hong Son',\n",
    "    'ยโสธร': 'Yasothon',\n",
    "    'ยะลา': 'Yala',\n",
    "    'ร้อยเอ็ด': 'Roi Et',\n",
    "    'ระนอง': 'Ranong',\n",
    "    'ระยอง': 'Rayong',\n",
    "    'ราชบุรี': 'Ratchaburi',\n",
    "    'ลพบุรี': 'Lop buri',\n",
    "    'ลำปาง': 'Lampang',\n",
    "    'ลำพูน': 'Lamphun',\n",
    "    'เลย': 'Loei',\n",
    "    'ศรีสะเกษ': 'Si Sa Ket',\n",
    "    'สกลนคร': 'Sakon Nakhon',\n",
    "    'สงขลา': 'Songkhla',\n",
    "    'สตูล': 'Satun',\n",
    "    'สมุทรปราการ': 'Samut Prakan',\n",
    "    'สมุทรสงคราม': 'Samut Songkhram',\n",
    "    'สมุทรสาคร': 'Samut Sakhon',\n",
    "    'สระแก้ว': 'Sa Kaeo',\n",
    "    'สระบุรี': 'Saraburi',\n",
    "    'สิงห์บุรี': 'Sing Buri',\n",
    "    'สุโขทัย': 'Sukhothai',\n",
    "    'สุพรรณบุรี': 'Suphan Buri',\n",
    "    'สุราษฎร์ธานี': 'Surat Thani',\n",
    "    'สุรินทร์': 'Surin',\n",
    "    'หนองคาย': 'Nong Khai',\n",
    "    'หนองบัวลำภู': 'Nong Bua Lam Phu',\n",
    "    'อยุธยา': 'Ayutthaya',\n",
    "    'อำนาจเจริญ': 'Amnat Charoen',\n",
    "    'อุดรธานี': 'Udon Thani',\n",
    "    'อุตรดิตถ์': 'Uttaradit',\n",
    "    'อุทัยธานี': 'Uthai Thani',\n",
    "    'อุบลราชธานี': 'Ubon Ratchathani',\n",
    "    'อ่างทอง' : 'Ang Thong',\n",
    "    'เชียงใหม่' : 'Chiang Mai',\n",
    "    'เชียงราย' : 'Chiang Rai'\n",
    "}\n",
    "\n",
    "# create function to change Thai province into english province\n",
    "def convert_to_english(province_thai):\n",
    "    return province_mapping.get(province_thai, province_thai)\n",
    "\n",
    "# replace english province to thai province\n",
    "raw[\"province\"].replace(\"Bangkok\", \"กรุงเทพมหานคร\", inplace=True)\n",
    "\n",
    "# create new english column\n",
    "raw['province_eng'] = raw['province'].apply(convert_to_english)"
   ]
  },
  {
   "cell_type": "markdown",
   "metadata": {},
   "source": [
    "Define restaurant with actual zero in rating and reviews_nr column."
   ]
  },
  {
   "cell_type": "code",
   "execution_count": 9,
   "metadata": {},
   "outputs": [],
   "source": [
    "# impute Na in rating column with 0\n",
    "raw[\"rating\"] = raw[\"rating\"].fillna(0)\n",
    "\n",
    "# create rating_status column\n",
    "raw[\"rating_status\"] = \"Rated\"\n",
    "\n",
    "# seperate restaurant with 0 rating and got more than 0 reviews and store the values in rating_status column.\n",
    "raw.loc[(raw[\"reviews_nr\"] >= 0) & (raw[\"rating\"] == 0), \"rating_status\"] = \"Not Rated\"\n",
    "raw.loc[(raw[\"reviews_nr\"] == 0) & (raw[\"rating\"] > 0), \"rating_status\"] = \"Not Rated\""
   ]
  },
  {
   "cell_type": "markdown",
   "metadata": {},
   "source": [
    "convert all values in price_level column to English."
   ]
  },
  {
   "cell_type": "code",
   "execution_count": 10,
   "metadata": {},
   "outputs": [],
   "source": [
    "# set the multiple conditions\n",
    "conditions = [raw[\"price_level\"] == \"ต่ำกว่า 100 บาท\",\n",
    "              raw[\"price_level\"] == \"101 - 250 บาท\",\n",
    "              raw[\"price_level\"] == \"251 - 500 บาท\",\n",
    "              raw[\"price_level\"] == \"501 - 1,000 บาท\",\n",
    "              raw[\"price_level\"] == \"มากกว่า 1,000 บาท\",\n",
    "              raw[\"price_level\"] == \"101 - 250 baht\",\n",
    "              raw[\"price_level\"] == \"251 - 500 baht\"\n",
    "              ]\n",
    "# set the results the respectively match with the above conditions.\n",
    "choices = [\"lower 100 baht\", \"101-250 baht\", \"251-500 baht\", \"501-1000 baht\", \"upper 1000 baht\", \"101-250 baht\", \"251-500 baht\"]\n",
    "raw[\"price_level\"] = np.select(conditions, choices, default = None)"
   ]
  },
  {
   "cell_type": "markdown",
   "metadata": {},
   "source": [
    "#### Clean missing values"
   ]
  },
  {
   "cell_type": "code",
   "execution_count": 10,
   "metadata": {},
   "outputs": [
    {
     "data": {
      "text/plain": [
       "TID                            0\n",
       "id                             1\n",
       "gid                            1\n",
       "id_source                      0\n",
       "name                         366\n",
       "distance                       0\n",
       "cuisine                        1\n",
       "price_level               131143\n",
       "lat                            0\n",
       "lon                            0\n",
       "image_url                      0\n",
       "category                       1\n",
       "category_international         1\n",
       "opening_hours              17497\n",
       "id_chain                  297886\n",
       "name_chain                297886\n",
       "reviews_nr                     0\n",
       "rating                         0\n",
       "address                        0\n",
       "facebook                  261507\n",
       "phone                          0\n",
       "email                     256407\n",
       "url                            0\n",
       "RunID                          0\n",
       "RunDate                        0\n",
       "InsertUpdateTime               0\n",
       "searched_lat                   0\n",
       "searched_lon                   0\n",
       "restaurant_type                0\n",
       "sub_district                6469\n",
       "district                    3632\n",
       "province                     302\n",
       "region                       305\n",
       "province_eng                 302\n",
       "list_category                  1\n",
       "rating_status                  0\n",
       "dtype: int64"
      ]
     },
     "execution_count": 10,
     "metadata": {},
     "output_type": "execute_result"
    }
   ],
   "source": [
    "raw.isna().sum()"
   ]
  },
  {
   "cell_type": "markdown",
   "metadata": {},
   "source": [
    "Drop missing values."
   ]
  },
  {
   "cell_type": "code",
   "execution_count": 11,
   "metadata": {},
   "outputs": [],
   "source": [
    "raw.dropna(subset= [\"id\", \"gid\", \"name\", \"price_level\", \"province\", \"region\"], inplace=True)"
   ]
  },
  {
   "cell_type": "markdown",
   "metadata": {},
   "source": [
    "#### Data Duplication"
   ]
  },
  {
   "cell_type": "code",
   "execution_count": 12,
   "metadata": {},
   "outputs": [],
   "source": [
    "# invert of duplicated values in \"gid\" column and index reset\n",
    "raw = raw.loc[~raw.duplicated(subset= \"gid\")].reset_index(drop=True) "
   ]
  },
  {
   "cell_type": "markdown",
   "metadata": {},
   "source": [
    "#### Subset Data Set\n",
    "select the essential columns for next sessions."
   ]
  },
  {
   "cell_type": "code",
   "execution_count": 13,
   "metadata": {},
   "outputs": [],
   "source": [
    "df = raw[[\"gid\", \"name\", \"price_level\",\"category\",  \"rating\", \"reviews_nr\",  \"name_chain\", \"restaurant_type\", \"region\", \"province\", \"province_eng\", \"sub_district\", \"district\"]]"
   ]
  },
  {
   "cell_type": "markdown",
   "metadata": {},
   "source": [
    "### EDA and Visualization\n",
    "In this session we are going to explore both categorical columns and numeric columns."
   ]
  },
  {
   "cell_type": "markdown",
   "metadata": {},
   "source": [
    "#### Categorical Columns"
   ]
  },
  {
   "cell_type": "markdown",
   "metadata": {},
   "source": [
    "All columns are going to be elaborated except \"gid\" and \"name\" column due to these columns cannot contain duplicates."
   ]
  },
  {
   "cell_type": "markdown",
   "metadata": {},
   "source": [
    "Price Level Column"
   ]
  },
  {
   "cell_type": "code",
   "execution_count": 17,
   "metadata": {},
   "outputs": [
    {
     "data": {
      "text/plain": [
       "price_level\n",
       "lower 100 baht     0.769043\n",
       "101-250 baht       0.178028\n",
       "251-500 baht       0.041680\n",
       "501-1000 baht      0.008422\n",
       "upper 1000 baht    0.002827\n",
       "Name: proportion, dtype: float64"
      ]
     },
     "execution_count": 17,
     "metadata": {},
     "output_type": "execute_result"
    }
   ],
   "source": [
    "df[\"price_level\"].value_counts(normalize= True).sort_values(ascending= False)"
   ]
  },
  {
   "cell_type": "markdown",
   "metadata": {},
   "source": [
    "Most of the online resturants, 76.9%, have a price lower than 100 baht."
   ]
  },
  {
   "cell_type": "markdown",
   "metadata": {},
   "source": [
    "Category Column"
   ]
  },
  {
   "cell_type": "code",
   "execution_count": 18,
   "metadata": {},
   "outputs": [
    {
     "data": {
      "text/plain": [
       "category\n",
       "อาหารไทย                                      0.060451\n",
       "ร้านกาแฟ/ชา                                   0.059991\n",
       "ก๋วยเตี๋ยว                                    0.050486\n",
       "อาหารจานเดียว                                 0.046175\n",
       "อาหารอีสาน/ร้านส้มตำ                          0.037878\n",
       "                                                ...   \n",
       "Food Truck/กึ่งผับ/ร้านเหล้า/บาร์/อาหารไทย    0.000005\n",
       "อาหารเกาหลี/อาหารฟิวชั่น/อาหารเช้า            0.000005\n",
       "อาหารนานาชาติ/คาราโอเกะ/อาหารฟิวชั่น          0.000005\n",
       "อาหารตามสั่ง/ก๋วยเตี๋ยว/อาหารคลีน/สลัด        0.000005\n",
       "อาหารนานาชาติ/Food Truck/อาหารเช้า            0.000005\n",
       "Name: proportion, Length: 9006, dtype: float64"
      ]
     },
     "execution_count": 18,
     "metadata": {},
     "output_type": "execute_result"
    }
   ],
   "source": [
    "df[\"category\"].value_counts(normalize= True).sort_values(ascending= False)"
   ]
  },
  {
   "cell_type": "markdown",
   "metadata": {},
   "source": [
    "There are 9,006 food categories this is due to multiple categories of each restaurants."
   ]
  },
  {
   "cell_type": "markdown",
   "metadata": {},
   "source": [
    "Restaurant Type Column"
   ]
  },
  {
   "cell_type": "code",
   "execution_count": 19,
   "metadata": {},
   "outputs": [
    {
     "data": {
      "text/plain": [
       "restaurant_type\n",
       "Typical    0.903951\n",
       "Chain      0.096049\n",
       "Name: proportion, dtype: float64"
      ]
     },
     "execution_count": 19,
     "metadata": {},
     "output_type": "execute_result"
    }
   ],
   "source": [
    "df[\"restaurant_type\"].value_counts(normalize= True).sort_values(ascending= False)"
   ]
  },
  {
   "cell_type": "markdown",
   "metadata": {},
   "source": [
    "only 0.96% of chain restaurants."
   ]
  },
  {
   "cell_type": "markdown",
   "metadata": {},
   "source": [
    "Name Chain Column"
   ]
  },
  {
   "cell_type": "code",
   "execution_count": 22,
   "metadata": {},
   "outputs": [
    {
     "data": {
      "text/plain": [
       "name_chain\n",
       "Café Amazon (คาเฟ่ อเมซอน)                 0.094728\n",
       "KFC (เคเอฟซี)                              0.034790\n",
       "MK Restaurants (เอ็มเค เรสโตรองต์)         0.018833\n",
       "The Pizza Company (เดอะ พิซซ่า คอมปะนี)    0.018495\n",
       "Dairy Queen (แดรี่ควีน)                    0.017141\n",
       "                                             ...   \n",
       "4Fingers Crispy Chicken                    0.000056\n",
       "ล้ำลำ                                      0.000056\n",
       "Charm Bakery                               0.000056\n",
       "Seichi Yakiniku (เซจิ ยากินิคุ)            0.000056\n",
       "ชิมไทย                                     0.000056\n",
       "Name: proportion, Length: 2065, dtype: float64"
      ]
     },
     "execution_count": 22,
     "metadata": {},
     "output_type": "execute_result"
    }
   ],
   "source": [
    "df[\"name_chain\"].value_counts(normalize= True).sort_values(ascending= False)"
   ]
  },
  {
   "cell_type": "markdown",
   "metadata": {},
   "source": [
    "There are 2,065 unique chain restaurants across Thailand."
   ]
  },
  {
   "cell_type": "markdown",
   "metadata": {},
   "source": [
    "Province Column"
   ]
  },
  {
   "cell_type": "code",
   "execution_count": 25,
   "metadata": {},
   "outputs": [
    {
     "data": {
      "text/plain": [
       "province\n",
       "กรุงเทพมหานคร    0.353083\n",
       "นนทบุรี          0.086555\n",
       "สมุทรปราการ      0.063273\n",
       "ชลบุรี           0.057500\n",
       "เชียงใหม่        0.053443\n",
       "                   ...   \n",
       "เพชรบุรี         0.000005\n",
       "มหาสารคาม        0.000005\n",
       "นครสวรรค์        0.000005\n",
       "แม่ฮ่องสอน       0.000005\n",
       "อุบลราชธานี      0.000005\n",
       "Name: proportion, Length: 71, dtype: float64"
      ]
     },
     "execution_count": 25,
     "metadata": {},
     "output_type": "execute_result"
    }
   ],
   "source": [
    "df[\"province\"].value_counts(normalize= True).sort_values(ascending= False)"
   ]
  },
  {
   "cell_type": "markdown",
   "metadata": {},
   "source": [
    "Based on this data, the Lineman service area covers 71 provinces in Thailand."
   ]
  },
  {
   "cell_type": "markdown",
   "metadata": {},
   "source": [
    "Region Column"
   ]
  },
  {
   "cell_type": "code",
   "execution_count": 26,
   "metadata": {},
   "outputs": [
    {
     "data": {
      "text/plain": [
       "region\n",
       "Central     0.385372\n",
       "Bangkok     0.353083\n",
       "Northern    0.093531\n",
       "Southern    0.087812\n",
       "Eastern     0.080203\n",
       "Name: proportion, dtype: float64"
      ]
     },
     "execution_count": 26,
     "metadata": {},
     "output_type": "execute_result"
    }
   ],
   "source": [
    "df[\"region\"].value_counts(normalize= True).sort_values(ascending= False)"
   ]
  },
  {
   "cell_type": "markdown",
   "metadata": {},
   "source": [
    "The majority of restaurants, 73.83% (central and bangkok together), cluster in the central region of Thailand."
   ]
  },
  {
   "cell_type": "markdown",
   "metadata": {},
   "source": [
    "Visualization of the 6 categorical columns."
   ]
  },
  {
   "cell_type": "code",
   "execution_count": 289,
   "metadata": {},
   "outputs": [
    {
     "data": {
      "text/plain": [
       "<Axes: xlabel='count', ylabel='province'>"
      ]
     },
     "execution_count": 289,
     "metadata": {},
     "output_type": "execute_result"
    },
    {
     "data": {
      "image/png": "[encoded data removed]",
      "text/plain": [
       "<Figure size 2000x1000 with 6 Axes>"
      ]
     },
     "metadata": {},
     "output_type": "display_data"
    }
   ],
   "source": [
    "fig, axs = plt.subplots(ncols=3, nrows=2, figsize=(20, 10), gridspec_kw={'wspace': 0.6, 'hspace': 0.3})\n",
    "\n",
    "sns.countplot(y= \"price_level\",\n",
    "            data= df,\n",
    "            orient= \"h\",\n",
    "            color= \"#219ebc\",\n",
    "            ax= axs[0,0])\n",
    "\n",
    "sns.countplot(x= \"region\",    \n",
    "            #hue= \"restaurant_type\",\n",
    "            data= df,\n",
    "            color= \"#219ebc\",\n",
    "            ax= axs[0,1])\n",
    "\n",
    "sns.countplot(x= \"restaurant_type\",\n",
    "              data= df,\n",
    "              color= \"#219ebc\",\n",
    "              ax= axs[0,2])\n",
    "\n",
    "sns.barplot(x= df[\"category\"].value_counts().head(20),\n",
    "            y= df[\"category\"].value_counts().head(20).index,\n",
    "            orient= \"h\",\n",
    "            color= \"#219ebc\",\n",
    "            ax= axs[1,1])\n",
    "\n",
    "sns.barplot(x= df[\"name_chain\"].value_counts().head(20),\n",
    "            y= df[\"name_chain\"].value_counts().head(20).index,\n",
    "            orient= \"h\",\n",
    "            color= \"#219ebc\",\n",
    "            ax= axs[1,0])\n",
    "\n",
    "sns.barplot(x= df[\"province\"].value_counts().head(20),\n",
    "            y= df[\"province\"].value_counts().head(20).index,\n",
    "            orient= \"h\",\n",
    "            color= \"#219ebc\",\n",
    "            ax= axs[1,2])"
   ]
  },
  {
   "cell_type": "markdown",
   "metadata": {},
   "source": [
    "`price_level column` \n",
    "- Most of the restaurant have the price range lower 100 bath.\n",
    "\n",
    "`region column`\n",
    "- Most of the restaurants are cluster in Central region followed by Bangkok.\n",
    "- There are a small gap of Northern, Eastern, and Sountern.\n",
    "\n",
    "`restaurant type column`\n",
    "- As usual there is a huge difference in total number of chain restarants and typical restaurants.\n",
    "\n",
    "`category column`\n",
    "- \"Thai food\" id the most abundant restaurants.\n",
    "- a liitle bit surprise that coffe shop/ tea house got 2nd place.\n",
    "- the Noodle is over Rice Dish.\n",
    "- Isan food is 4th.\n",
    "\n",
    "`name_chain column`\n",
    "- Cafe Amazon is by far the largest chain in the app.\n",
    "- follow 2nd and 3rd is the KFC and MK, They are both well known and strong brand in Thailand.\n",
    "\n",
    "`province column`\n",
    "- Bangkok got the most in restaurant number followed by Nonthaburi and Samuth Pragan are 2nd and 3rd respectively.\n",
    "- Chaing Mai are top five among the central regions."
   ]
  },
  {
   "cell_type": "markdown",
   "metadata": {},
   "source": [
    "#### Numeric Columns"
   ]
  },
  {
   "cell_type": "code",
   "execution_count": 205,
   "metadata": {},
   "outputs": [
    {
     "data": {
      "text/html": [
       "<div>\n",
       "<style scoped>\n",
       "    .dataframe tbody tr th:only-of-type {\n",
       "        vertical-align: middle;\n",
       "    }\n",
       "\n",
       "    .dataframe tbody tr th {\n",
       "        vertical-align: top;\n",
       "    }\n",
       "\n",
       "    .dataframe thead th {\n",
       "        text-align: right;\n",
       "    }\n",
       "</style>\n",
       "<table border=\"1\" class=\"dataframe\">\n",
       "  <thead>\n",
       "    <tr style=\"text-align: right;\">\n",
       "      <th></th>\n",
       "      <th>rating</th>\n",
       "      <th>reviews_nr</th>\n",
       "    </tr>\n",
       "  </thead>\n",
       "  <tbody>\n",
       "    <tr>\n",
       "      <th>count</th>\n",
       "      <td>51631.000000</td>\n",
       "      <td>51631.000000</td>\n",
       "    </tr>\n",
       "    <tr>\n",
       "      <th>mean</th>\n",
       "      <td>3.731156</td>\n",
       "      <td>14.089578</td>\n",
       "    </tr>\n",
       "    <tr>\n",
       "      <th>std</th>\n",
       "      <td>0.527002</td>\n",
       "      <td>32.303168</td>\n",
       "    </tr>\n",
       "    <tr>\n",
       "      <th>min</th>\n",
       "      <td>1.000000</td>\n",
       "      <td>0.000000</td>\n",
       "    </tr>\n",
       "    <tr>\n",
       "      <th>25%</th>\n",
       "      <td>3.380000</td>\n",
       "      <td>2.000000</td>\n",
       "    </tr>\n",
       "    <tr>\n",
       "      <th>50%</th>\n",
       "      <td>3.790000</td>\n",
       "      <td>5.000000</td>\n",
       "    </tr>\n",
       "    <tr>\n",
       "      <th>75%</th>\n",
       "      <td>4.000000</td>\n",
       "      <td>13.000000</td>\n",
       "    </tr>\n",
       "    <tr>\n",
       "      <th>max</th>\n",
       "      <td>5.000000</td>\n",
       "      <td>975.000000</td>\n",
       "    </tr>\n",
       "  </tbody>\n",
       "</table>\n",
       "</div>"
      ],
      "text/plain": [
       "             rating    reviews_nr\n",
       "count  51631.000000  51631.000000\n",
       "mean       3.731156     14.089578\n",
       "std        0.527002     32.303168\n",
       "min        1.000000      0.000000\n",
       "25%        3.380000      2.000000\n",
       "50%        3.790000      5.000000\n",
       "75%        4.000000     13.000000\n",
       "max        5.000000    975.000000"
      ]
     },
     "execution_count": 205,
     "metadata": {},
     "output_type": "execute_result"
    }
   ],
   "source": [
    "df.query(\"rating > 0\")[[\"rating\", \"reviews_nr\"]].describe()"
   ]
  },
  {
   "cell_type": "markdown",
   "metadata": {},
   "source": [
    "From the descriptive table\n",
    "\n",
    "- the rating column\n",
    "    - half of the restaurant rating (50%) is 0.\n",
    "- the reviews_nr column\n",
    "    - 75% of the restaurants received a very few number of review mostly range from 0-2.\n",
    "\n",
    "We could do these following lists to handle with the issues above\n",
    "1. determine the restaurant that actually received 0 rating by consider the number review that equal 0 from reviews_nr column.\n",
    "    - we may consider to impute the 0 rating with median if we can appropriately sort out the actual 0 rating.\n",
    "2. categorize reviews_nr column into a group and plot vs rating to see thier relationship."
   ]
  },
  {
   "cell_type": "code",
   "execution_count": 25,
   "metadata": {},
   "outputs": [
    {
     "data": {
      "text/plain": [
       "<Axes: xlabel='reviews_nr', ylabel='Count'>"
      ]
     },
     "execution_count": 25,
     "metadata": {},
     "output_type": "execute_result"
    },
    {
     "data": {
      "image/png": "[encoded data removed]",
      "text/plain": [
       "<Figure size 1000x400 with 2 Axes>"
      ]
     },
     "metadata": {},
     "output_type": "display_data"
    }
   ],
   "source": [
    "fig, axs = plt.subplots(ncols= 2, figsize = (10 ,4), gridspec_kw= {\"wspace\" : 0.2, \"hspace\" : 0.1})\n",
    "\n",
    "sns.histplot(x= \"rating\",\n",
    "             data= df.query(\"rating > 0\"),\n",
    "             bins= 15,\n",
    "             color= \"#219ebc\",\n",
    "             ax= axs[0])\n",
    "\n",
    "sns.histplot(x= \"reviews_nr\",\n",
    "             data= df.query(\"rating > 0\"),\n",
    "             bins= 20,\n",
    "             color= \"#219ebc\",\n",
    "             ax= axs[1])"
   ]
  },
  {
   "cell_type": "markdown",
   "metadata": {},
   "source": [
    "From the above illustrates, before visualization I decided to not include the restaurants with 0 rating in the data, due to a large portion of 0 in rating column. "
   ]
  },
  {
   "cell_type": "markdown",
   "metadata": {},
   "source": [
    "Multivariate Analysis"
   ]
  },
  {
   "cell_type": "code",
   "execution_count": 14,
   "metadata": {},
   "outputs": [
    {
     "data": {
      "text/plain": [
       "0.8196537629108565"
      ]
     },
     "execution_count": 14,
     "metadata": {},
     "output_type": "execute_result"
    }
   ],
   "source": [
    "df[\"rating\"].corr(df[\"reviews_nr\"], method= \"spearman\")"
   ]
  },
  {
   "cell_type": "markdown",
   "metadata": {},
   "source": [
    "the correlation between \"rating and \"reviews_nr\" columns is 0.81 which is highly positive correlated"
   ]
  },
  {
   "cell_type": "markdown",
   "metadata": {},
   "source": [
    "create categorical column from reviews_nr to see the clear trend."
   ]
  },
  {
   "cell_type": "code",
   "execution_count": 20,
   "metadata": {},
   "outputs": [],
   "source": [
    "# create categorical column for reviews_nr\n",
    "df[\"num_reviews\"] = pd.cut(df[\"reviews_nr\"], [0, 2, 5, 13, 975], labels= [\"1-2 review\", \"3-5 review\", \"6-13 review\", \"14+ review\"])"
   ]
  },
  {
   "cell_type": "code",
   "execution_count": 31,
   "metadata": {},
   "outputs": [
    {
     "data": {
      "text/plain": [
       "<Axes: xlabel='num_reviews', ylabel='rating'>"
      ]
     },
     "execution_count": 31,
     "metadata": {},
     "output_type": "execute_result"
    },
    {
     "data": {
      "image/png": "[encoded data removed]",
      "text/plain": [
       "<Figure size 1000x400 with 2 Axes>"
      ]
     },
     "metadata": {},
     "output_type": "display_data"
    }
   ],
   "source": [
    "fig, axs = plt.subplots(ncols= 2, figsize = (10 ,4), gridspec_kw= {\"wspace\" : 0.2, \"hspace\" : 0.1})\n",
    "colors = [\"#8ecae6\",\"#219ebc\", \"#023047\", \"#ffb703\", \"#fb8500\"]\n",
    "\n",
    "sns.scatterplot(x= \"reviews_nr\",\n",
    "                y= \"rating\",\n",
    "                data= df.query(\"rating > 0\"),\n",
    "                color= colors[3],\n",
    "                ax= axs[0])\n",
    "\n",
    "sns.boxplot(y= \"rating\",\n",
    "            x= \"num_reviews\",\n",
    "                data= df.query(\"rating > 0\"),\n",
    "                palette= colors,\n",
    "                ax= axs[1])"
   ]
  },
  {
   "cell_type": "markdown",
   "metadata": {},
   "source": [
    "- From the 1st chart, it is hardly to detech a clear trend. \n",
    "\n",
    "- After categorize the reviews_nr in the 2nd chart, the positive trend sligthly appears."
   ]
  },
  {
   "cell_type": "markdown",
   "metadata": {},
   "source": [
    "### 3. K-Means Clustering"
   ]
  },
  {
   "cell_type": "markdown",
   "metadata": {},
   "source": [
    "Method:\n",
    "1. Scaling the \"rating\" and \"reviews_nr\" columns.\n",
    "\n",
    "2. perform the Elbow method to determine range of K values.\n",
    "\n",
    "3. train K-means model each k values.\n",
    "\n",
    "4. evaluate model using Silhouette score to select optimal k.\n",
    "\n",
    "5. visualize the result."
   ]
  },
  {
   "cell_type": "markdown",
   "metadata": {},
   "source": [
    "Scaling data."
   ]
  },
  {
   "cell_type": "code",
   "execution_count": 32,
   "metadata": {},
   "outputs": [],
   "source": [
    "from sklearn.preprocessing import StandardScaler\n",
    "from sklearn.cluster import KMeans\n",
    "from sklearn.metrics import silhouette_score\n",
    "\n",
    "X = df[['rating', 'reviews_nr']]\n",
    "\n",
    "# Standardize the data\n",
    "scaler = StandardScaler()\n",
    "X_scaled = scaler.fit_transform(X)"
   ]
  },
  {
   "cell_type": "markdown",
   "metadata": {},
   "source": [
    "Define range of K via the Elbow method."
   ]
  },
  {
   "cell_type": "code",
   "execution_count": 33,
   "metadata": {},
   "outputs": [
    {
     "data": {
      "image/png": "[encoded data removed]",
      "text/plain": [
       "<Figure size 640x480 with 1 Axes>"
      ]
     },
     "metadata": {},
     "output_type": "display_data"
    }
   ],
   "source": [
    "wcss = []\n",
    "for i in range(1, 11):\n",
    "    kmeans = KMeans(n_clusters=i, init='k-means++', random_state=42)\n",
    "    kmeans.fit(X_scaled)\n",
    "    wcss.append(kmeans.inertia_)\n",
    "\n",
    "plt.plot(range(1, 11), wcss, color= \"#ffb703\")\n",
    "plt.title('Elbow Method')\n",
    "plt.xlabel('Number of clusters')\n",
    "plt.ylabel('WCSS')\n",
    "plt.gca().spines['top'].set_visible(False)\n",
    "plt.gca().spines['right'].set_visible(False)\n",
    "plt.show()"
   ]
  },
  {
   "cell_type": "markdown",
   "metadata": {},
   "source": [
    "the range for K value is 3 to 5."
   ]
  },
  {
   "cell_type": "markdown",
   "metadata": {},
   "source": [
    "Train and evaluate the model."
   ]
  },
  {
   "cell_type": "code",
   "execution_count": 243,
   "metadata": {},
   "outputs": [
    {
     "name": "stdout",
     "output_type": "stream",
     "text": [
      "[{'K: 3': 0.633}, {'K: 4': 0.673}, {'K: 5': 0.706}]\n"
     ]
    }
   ],
   "source": [
    "# Choose range of k based on the elbow method\n",
    "k = (3, 4, 5) \n",
    "\n",
    "modelScore = []\n",
    "\n",
    "# Train the K-means model\n",
    "for n in k:\n",
    "    kmeans = KMeans(n_clusters=n, init='k-means++', random_state=42)\n",
    "    clusters = kmeans.fit_predict(X_scaled)\n",
    "\n",
    "    # Calculate the Silhouette Score\n",
    "    silhouette_avg = silhouette_score(X, clusters)\n",
    "\n",
    "    modelScore.append({f\"K: {n}\" : round(silhouette_avg, 3)})\n",
    "\n",
    "print(modelScore)"
   ]
  },
  {
   "cell_type": "markdown",
   "metadata": {},
   "source": [
    "from the results K = 5 gives us the highest score."
   ]
  },
  {
   "cell_type": "markdown",
   "metadata": {},
   "source": [
    "Select the the optimal K."
   ]
  },
  {
   "cell_type": "code",
   "execution_count": 34,
   "metadata": {},
   "outputs": [],
   "source": [
    "# select the optimal K \n",
    "kmeans = KMeans(n_clusters=5, init='k-means++', random_state=42)\n",
    "clusters = kmeans.fit_predict(X_scaled)\n",
    "\n",
    "# Add the cluster label to dataset\n",
    "df['cluster'] = clusters"
   ]
  },
  {
   "cell_type": "markdown",
   "metadata": {},
   "source": [
    "Naming each clusters."
   ]
  },
  {
   "cell_type": "code",
   "execution_count": 35,
   "metadata": {},
   "outputs": [],
   "source": [
    "# set the multiple conditions\n",
    "conditions = [df['cluster'] == 0,\n",
    "              df['cluster'] == 1,\n",
    "              df['cluster'] == 2,\n",
    "              df['cluster'] == 3,\n",
    "              df['cluster'] == 4]\n",
    "\n",
    "# set the results the respectively match with the above conditions.\n",
    "choices = [\"New\", \"Promising\", \"Fair\", \"Recommended\", \"Good Picks\"]\n",
    "df['cluster'] = np.select(conditions, choices, default = None)"
   ]
  },
  {
   "cell_type": "markdown",
   "metadata": {},
   "source": [
    "The cluster names:\n",
    "- Recommended: popular restaurants with high rating and reviews.\n",
    "\n",
    "- Good Picks: restaurants with well-rated and good reviews.\n",
    "\n",
    "- Promissing: medium restaurants with potential.\n",
    "\n",
    "- Fair: restaurants with few reviews.\n",
    "\n",
    "- New: restaurants haven't received any customer reviews."
   ]
  },
  {
   "cell_type": "markdown",
   "metadata": {},
   "source": [
    "Visualize the result."
   ]
  },
  {
   "cell_type": "code",
   "execution_count": 36,
   "metadata": {},
   "outputs": [
    {
     "data": {
      "image/png": "[encoded data removed]",
      "text/plain": [
       "<Figure size 640x480 with 1 Axes>"
      ]
     },
     "metadata": {},
     "output_type": "display_data"
    }
   ],
   "source": [
    "colors = [\"#8ecae6\",\"#219ebc\", \"#023047\", \"#ffb703\", \"#fb8500\"]\n",
    "\n",
    "new = plt.scatter(df.query(\"rating > 0 & cluster == 'New'\")[\"reviews_nr\"], \n",
    "                  df.query(\"rating > 0 & cluster == 'New'\")[\"rating\"], \n",
    "                  color= colors[0], \n",
    "                  linewidth=0.5,\n",
    "                  edgecolors= \"white\")\n",
    "\n",
    "fair = plt.scatter(df.query(\"rating > 0 & cluster == 'Fair'\")[\"reviews_nr\"], \n",
    "                   df.query(\"rating > 0 & cluster == 'Fair'\")[\"rating\"], \n",
    "                   color= colors[1],\n",
    "                   linewidth=0.5, \n",
    "                   edgecolors= \"white\")\n",
    "\n",
    "promising = plt.scatter(df.query(\"rating > 0 & cluster == 'Promising'\")[\"reviews_nr\"], \n",
    "                        df.query(\"rating > 0 & cluster == 'Promising'\")[\"rating\"], \n",
    "                        color= colors[2], \n",
    "                        linewidth=0.5,\n",
    "                        edgecolors= \"white\")\n",
    "\n",
    "goodPick = plt.scatter(df.query(\"rating > 0 & cluster == 'Good Picks'\")[\"reviews_nr\"], \n",
    "                       df.query(\"rating > 0 & cluster == 'Good Picks'\")[\"rating\"], \n",
    "                       color= colors[3],\n",
    "                       linewidth=0.5, \n",
    "                       edgecolors= \"white\")\n",
    "\n",
    "recommend = plt.scatter(df.query(\"rating > 0 & cluster == 'Recommended'\")[\"reviews_nr\"],\n",
    "                        df.query(\"rating > 0 & cluster == 'Recommended'\")[\"rating\"],\n",
    "                        color= colors[4], \n",
    "                        linewidth=0.5,\n",
    "                        edgecolors= \"white\")\n",
    "\n",
    "plt.legend((recommend, goodPick, promising, fair, new),\n",
    "           (\"Recommended\", \"Good Picks\", \"Promising\", \"Fair\", \"New\"),\n",
    "           bbox_to_anchor=(0.5, 1.04),\n",
    "           loc=\"lower center\",\n",
    "           borderaxespad=0,\n",
    "           frameon=False,\n",
    "           ncol = 5)\n",
    "\n",
    "#plt.title('Restaurant Clusters', y= 1.11)\n",
    "plt.xlabel(\"Review\")\n",
    "plt.ylabel(\"Rating\")\n",
    "plt.gca().spines['top'].set_visible(False)\n",
    "plt.gca().spines['right'].set_visible(False)\n",
    "plt.show()\n"
   ]
  },
  {
   "cell_type": "code",
   "execution_count": 40,
   "metadata": {},
   "outputs": [
    {
     "data": {
      "text/plain": [
       "cluster\n",
       "New            72.07\n",
       "Fair           24.57\n",
       "Promising       2.80\n",
       "Good Picks      0.50\n",
       "Recommended     0.06\n",
       "Name: proportion, dtype: float64"
      ]
     },
     "execution_count": 40,
     "metadata": {},
     "output_type": "execute_result"
    }
   ],
   "source": [
    "round(df[\"cluster\"].value_counts(normalize= True) * 100,2)"
   ]
  },
  {
   "cell_type": "markdown",
   "metadata": {},
   "source": [
    "the largest proportion is New (72.07%) and the smallest is Recommended (0.06%)."
   ]
  },
  {
   "cell_type": "markdown",
   "metadata": {},
   "source": [
    "This infomation will allow us to offer the services to the right groups:\n",
    "- for the POS solution I suggest send an offer to Recommended and Good Picks groups.\n",
    "\n",
    "- Fair and Promising, we can offer ads placement on the application."
   ]
  },
  {
   "cell_type": "markdown",
   "metadata": {},
   "source": [
    "## Dimensional Data Modeling"
   ]
  },
  {
   "cell_type": "markdown",
   "metadata": {},
   "source": [
    "#### Create Dimension Tables"
   ]
  },
  {
   "cell_type": "markdown",
   "metadata": {},
   "source": [
    "Restaurant Dimension Table"
   ]
  },
  {
   "cell_type": "code",
   "execution_count": 19,
   "metadata": {},
   "outputs": [],
   "source": [
    "# create new data table for restaurant dimension\n",
    "restaurant_dim = df[[\"gid\", \"name\"]]"
   ]
  },
  {
   "cell_type": "markdown",
   "metadata": {},
   "source": [
    "Location Dimension Table"
   ]
  },
  {
   "cell_type": "code",
   "execution_count": 20,
   "metadata": {},
   "outputs": [],
   "source": [
    "# create function to merge values from multiple columns\n",
    "def concat_column(df):\n",
    "    return df[\"region\"] + \"/\" + df[\"province\"] + \"/\" + df[\"district\"] + \"/\" + df[\"sub_district\"] + \"/\" + df[\"province_eng\"]"
   ]
  },
  {
   "cell_type": "code",
   "execution_count": 21,
   "metadata": {},
   "outputs": [],
   "source": [
    "# replace NA values in district and sub-district columns\n",
    "df[[\"district\", \"sub_district\"]] = df[[\"district\", \"sub_district\"]].fillna(\"Not Staged\")\n",
    "\n",
    "# subset data\n",
    "location_dim = df[[\"region\", \"province\", \"district\", \"sub_district\", \"province_eng\"]]\n",
    "location_dim[\"location\"] = location_dim.apply(concat_column, axis= 1)                                       # apply function\n",
    "location_dim = location_dim.loc[~location_dim.duplicated(subset= \"location\")].reset_index(drop= True)       # drop duplicate\n",
    "location_dim[\"location_id\"] = location_dim.index                                                            # set location_id"
   ]
  },
  {
   "cell_type": "code",
   "execution_count": 46,
   "metadata": {},
   "outputs": [
    {
     "data": {
      "text/html": [
       "<div>\n",
       "<style scoped>\n",
       "    .dataframe tbody tr th:only-of-type {\n",
       "        vertical-align: middle;\n",
       "    }\n",
       "\n",
       "    .dataframe tbody tr th {\n",
       "        vertical-align: top;\n",
       "    }\n",
       "\n",
       "    .dataframe thead th {\n",
       "        text-align: right;\n",
       "    }\n",
       "</style>\n",
       "<table border=\"1\" class=\"dataframe\">\n",
       "  <thead>\n",
       "    <tr style=\"text-align: right;\">\n",
       "      <th></th>\n",
       "      <th>region</th>\n",
       "      <th>province</th>\n",
       "      <th>district</th>\n",
       "      <th>sub_district</th>\n",
       "      <th>province_eng</th>\n",
       "      <th>location</th>\n",
       "      <th>location_id</th>\n",
       "    </tr>\n",
       "  </thead>\n",
       "  <tbody>\n",
       "    <tr>\n",
       "      <th>0</th>\n",
       "      <td>Southern</td>\n",
       "      <td>นราธิวาส</td>\n",
       "      <td>เมืองนราธิวาส</td>\n",
       "      <td>บางนาค</td>\n",
       "      <td>Narathiwat</td>\n",
       "      <td>Southern/นราธิวาส/เมืองนราธิวาส/บางนาค/Narathiwat</td>\n",
       "      <td>0</td>\n",
       "    </tr>\n",
       "    <tr>\n",
       "      <th>1</th>\n",
       "      <td>Southern</td>\n",
       "      <td>นราธิวาส</td>\n",
       "      <td>เมืองนราธิวาส</td>\n",
       "      <td>ลำภู</td>\n",
       "      <td>Narathiwat</td>\n",
       "      <td>Southern/นราธิวาส/เมืองนราธิวาส/ลำภู/Narathiwat</td>\n",
       "      <td>1</td>\n",
       "    </tr>\n",
       "    <tr>\n",
       "      <th>2</th>\n",
       "      <td>Southern</td>\n",
       "      <td>นราธิวาส</td>\n",
       "      <td>เมืองนราธิวาส</td>\n",
       "      <td>โคกเคียน</td>\n",
       "      <td>Narathiwat</td>\n",
       "      <td>Southern/นราธิวาส/เมืองนราธิวาส/โคกเคียน/Narat...</td>\n",
       "      <td>2</td>\n",
       "    </tr>\n",
       "    <tr>\n",
       "      <th>3</th>\n",
       "      <td>Southern</td>\n",
       "      <td>นราธิวาส</td>\n",
       "      <td>เมืองนราธิวาส</td>\n",
       "      <td>กะลุวอเหนือ</td>\n",
       "      <td>Narathiwat</td>\n",
       "      <td>Southern/นราธิวาส/เมืองนราธิวาส/กะลุวอเหนือ/Na...</td>\n",
       "      <td>3</td>\n",
       "    </tr>\n",
       "    <tr>\n",
       "      <th>4</th>\n",
       "      <td>Southern</td>\n",
       "      <td>นราธิวาส</td>\n",
       "      <td>เมืองนราธิวาส</td>\n",
       "      <td>Not Sated</td>\n",
       "      <td>Narathiwat</td>\n",
       "      <td>Southern/นราธิวาส/เมืองนราธิวาส/Not Sated/Nara...</td>\n",
       "      <td>4</td>\n",
       "    </tr>\n",
       "    <tr>\n",
       "      <th>...</th>\n",
       "      <td>...</td>\n",
       "      <td>...</td>\n",
       "      <td>...</td>\n",
       "      <td>...</td>\n",
       "      <td>...</td>\n",
       "      <td>...</td>\n",
       "      <td>...</td>\n",
       "    </tr>\n",
       "    <tr>\n",
       "      <th>1257</th>\n",
       "      <td>Central</td>\n",
       "      <td>กาญจนบุรี</td>\n",
       "      <td>Not Sated</td>\n",
       "      <td>Not Sated</td>\n",
       "      <td>Kanchanaburi</td>\n",
       "      <td>Central/กาญจนบุรี/Not Sated/Not Sated/Kanchana...</td>\n",
       "      <td>1257</td>\n",
       "    </tr>\n",
       "    <tr>\n",
       "      <th>1258</th>\n",
       "      <td>Central</td>\n",
       "      <td>ราชบุรี</td>\n",
       "      <td>เมืองราชบุรี</td>\n",
       "      <td>หลุมดิน</td>\n",
       "      <td>Ratchaburi</td>\n",
       "      <td>Central/ราชบุรี/เมืองราชบุรี/หลุมดิน/Ratchaburi</td>\n",
       "      <td>1258</td>\n",
       "    </tr>\n",
       "    <tr>\n",
       "      <th>1259</th>\n",
       "      <td>Central</td>\n",
       "      <td>ราชบุรี</td>\n",
       "      <td>เมืองราชบุรี</td>\n",
       "      <td>เจดีย์หัก</td>\n",
       "      <td>Ratchaburi</td>\n",
       "      <td>Central/ราชบุรี/เมืองราชบุรี/เจดีย์หัก/Ratchaburi</td>\n",
       "      <td>1259</td>\n",
       "    </tr>\n",
       "    <tr>\n",
       "      <th>1260</th>\n",
       "      <td>Central</td>\n",
       "      <td>ราชบุรี</td>\n",
       "      <td>เมืองราชบุรี</td>\n",
       "      <td>ดอนตะโก</td>\n",
       "      <td>Ratchaburi</td>\n",
       "      <td>Central/ราชบุรี/เมืองราชบุรี/ดอนตะโก/Ratchaburi</td>\n",
       "      <td>1260</td>\n",
       "    </tr>\n",
       "    <tr>\n",
       "      <th>1261</th>\n",
       "      <td>Eastern</td>\n",
       "      <td>สุรินทร์</td>\n",
       "      <td>เมืองสุรินทร์</td>\n",
       "      <td>ท่าสว่าง</td>\n",
       "      <td>Surin</td>\n",
       "      <td>Eastern/สุรินทร์/เมืองสุรินทร์/ท่าสว่าง/Surin</td>\n",
       "      <td>1261</td>\n",
       "    </tr>\n",
       "  </tbody>\n",
       "</table>\n",
       "<p>1262 rows × 7 columns</p>\n",
       "</div>"
      ],
      "text/plain": [
       "        region   province       district sub_district  province_eng  \\\n",
       "0     Southern   นราธิวาส  เมืองนราธิวาส       บางนาค    Narathiwat   \n",
       "1     Southern   นราธิวาส  เมืองนราธิวาส         ลำภู    Narathiwat   \n",
       "2     Southern   นราธิวาส  เมืองนราธิวาส     โคกเคียน    Narathiwat   \n",
       "3     Southern   นราธิวาส  เมืองนราธิวาส  กะลุวอเหนือ    Narathiwat   \n",
       "4     Southern   นราธิวาส  เมืองนราธิวาส    Not Sated    Narathiwat   \n",
       "...        ...        ...            ...          ...           ...   \n",
       "1257   Central  กาญจนบุรี      Not Sated    Not Sated  Kanchanaburi   \n",
       "1258   Central    ราชบุรี   เมืองราชบุรี      หลุมดิน    Ratchaburi   \n",
       "1259   Central    ราชบุรี   เมืองราชบุรี    เจดีย์หัก    Ratchaburi   \n",
       "1260   Central    ราชบุรี   เมืองราชบุรี      ดอนตะโก    Ratchaburi   \n",
       "1261   Eastern   สุรินทร์  เมืองสุรินทร์     ท่าสว่าง         Surin   \n",
       "\n",
       "                                               location  location_id  \n",
       "0     Southern/นราธิวาส/เมืองนราธิวาส/บางนาค/Narathiwat            0  \n",
       "1       Southern/นราธิวาส/เมืองนราธิวาส/ลำภู/Narathiwat            1  \n",
       "2     Southern/นราธิวาส/เมืองนราธิวาส/โคกเคียน/Narat...            2  \n",
       "3     Southern/นราธิวาส/เมืองนราธิวาส/กะลุวอเหนือ/Na...            3  \n",
       "4     Southern/นราธิวาส/เมืองนราธิวาส/Not Sated/Nara...            4  \n",
       "...                                                 ...          ...  \n",
       "1257  Central/กาญจนบุรี/Not Sated/Not Sated/Kanchana...         1257  \n",
       "1258    Central/ราชบุรี/เมืองราชบุรี/หลุมดิน/Ratchaburi         1258  \n",
       "1259  Central/ราชบุรี/เมืองราชบุรี/เจดีย์หัก/Ratchaburi         1259  \n",
       "1260    Central/ราชบุรี/เมืองราชบุรี/ดอนตะโก/Ratchaburi         1260  \n",
       "1261      Eastern/สุรินทร์/เมืองสุรินทร์/ท่าสว่าง/Surin         1261  \n",
       "\n",
       "[1262 rows x 7 columns]"
      ]
     },
     "execution_count": 46,
     "metadata": {},
     "output_type": "execute_result"
    }
   ],
   "source": [
    "location_dim"
   ]
  },
  {
   "cell_type": "markdown",
   "metadata": {},
   "source": [
    "Cluster Dimension Table"
   ]
  },
  {
   "cell_type": "code",
   "execution_count": 27,
   "metadata": {},
   "outputs": [],
   "source": [
    "cluster_dim = df[[\"cluster\"]].drop_duplicates().reset_index(drop= True)             # crate table and drop duplicate\n",
    "cluster_dim[\"cluster_id\"] = cluster_dim.index                                       # set cluster_id"
   ]
  },
  {
   "cell_type": "code",
   "execution_count": 29,
   "metadata": {},
   "outputs": [
    {
     "data": {
      "text/html": [
       "<div>\n",
       "<style scoped>\n",
       "    .dataframe tbody tr th:only-of-type {\n",
       "        vertical-align: middle;\n",
       "    }\n",
       "\n",
       "    .dataframe tbody tr th {\n",
       "        vertical-align: top;\n",
       "    }\n",
       "\n",
       "    .dataframe thead th {\n",
       "        text-align: right;\n",
       "    }\n",
       "</style>\n",
       "<table border=\"1\" class=\"dataframe\">\n",
       "  <thead>\n",
       "    <tr style=\"text-align: right;\">\n",
       "      <th></th>\n",
       "      <th>cluster</th>\n",
       "      <th>cluster_id</th>\n",
       "    </tr>\n",
       "  </thead>\n",
       "  <tbody>\n",
       "    <tr>\n",
       "      <th>0</th>\n",
       "      <td>Fair</td>\n",
       "      <td>0</td>\n",
       "    </tr>\n",
       "    <tr>\n",
       "      <th>1</th>\n",
       "      <td>New</td>\n",
       "      <td>1</td>\n",
       "    </tr>\n",
       "    <tr>\n",
       "      <th>2</th>\n",
       "      <td>Promising</td>\n",
       "      <td>2</td>\n",
       "    </tr>\n",
       "    <tr>\n",
       "      <th>3</th>\n",
       "      <td>Good Picks</td>\n",
       "      <td>3</td>\n",
       "    </tr>\n",
       "    <tr>\n",
       "      <th>4</th>\n",
       "      <td>Recommended</td>\n",
       "      <td>4</td>\n",
       "    </tr>\n",
       "  </tbody>\n",
       "</table>\n",
       "</div>"
      ],
      "text/plain": [
       "       cluster  cluster_id\n",
       "0         Fair           0\n",
       "1          New           1\n",
       "2    Promising           2\n",
       "3   Good Picks           3\n",
       "4  Recommended           4"
      ]
     },
     "execution_count": 29,
     "metadata": {},
     "output_type": "execute_result"
    }
   ],
   "source": [
    "cluster_dim"
   ]
  },
  {
   "cell_type": "markdown",
   "metadata": {},
   "source": [
    "Category Dimension Table"
   ]
  },
  {
   "cell_type": "code",
   "execution_count": 30,
   "metadata": {},
   "outputs": [],
   "source": [
    "category_dim = df[[\"category\"]].drop_duplicates().reset_index(drop= True)\n",
    "category_dim[\"category_id\"] = category_dim.index                                        # set category_id"
   ]
  },
  {
   "cell_type": "code",
   "execution_count": 32,
   "metadata": {},
   "outputs": [
    {
     "data": {
      "text/html": [
       "<div>\n",
       "<style scoped>\n",
       "    .dataframe tbody tr th:only-of-type {\n",
       "        vertical-align: middle;\n",
       "    }\n",
       "\n",
       "    .dataframe tbody tr th {\n",
       "        vertical-align: top;\n",
       "    }\n",
       "\n",
       "    .dataframe thead th {\n",
       "        text-align: right;\n",
       "    }\n",
       "</style>\n",
       "<table border=\"1\" class=\"dataframe\">\n",
       "  <thead>\n",
       "    <tr style=\"text-align: right;\">\n",
       "      <th></th>\n",
       "      <th>category</th>\n",
       "      <th>category_id</th>\n",
       "    </tr>\n",
       "  </thead>\n",
       "  <tbody>\n",
       "    <tr>\n",
       "      <th>0</th>\n",
       "      <td>ของหวาน/เบเกอรี/เค้ก</td>\n",
       "      <td>0</td>\n",
       "    </tr>\n",
       "    <tr>\n",
       "      <th>1</th>\n",
       "      <td>ก๋วยเตี๋ยว</td>\n",
       "      <td>1</td>\n",
       "    </tr>\n",
       "    <tr>\n",
       "      <th>2</th>\n",
       "      <td>อาหารจานเดียว</td>\n",
       "      <td>2</td>\n",
       "    </tr>\n",
       "    <tr>\n",
       "      <th>3</th>\n",
       "      <td>ร้านกาแฟ/ชา</td>\n",
       "      <td>3</td>\n",
       "    </tr>\n",
       "    <tr>\n",
       "      <th>4</th>\n",
       "      <td>เบเกอรี/เค้ก</td>\n",
       "      <td>4</td>\n",
       "    </tr>\n",
       "    <tr>\n",
       "      <th>...</th>\n",
       "      <td>...</td>\n",
       "      <td>...</td>\n",
       "    </tr>\n",
       "    <tr>\n",
       "      <th>9001</th>\n",
       "      <td>ชาบู/สุกี้ยากี้/หม้อไฟ/ปิ้งย่าง/อาหารตามสั่ง</td>\n",
       "      <td>9001</td>\n",
       "    </tr>\n",
       "    <tr>\n",
       "      <th>9002</th>\n",
       "      <td>บุฟเฟ่ต์/อาหารนานาชาติ/อาหารฟิวชั่น</td>\n",
       "      <td>9002</td>\n",
       "    </tr>\n",
       "    <tr>\n",
       "      <th>9003</th>\n",
       "      <td>สเต๊ก/อาหารเกาหลี/อาหารอเมริกัน</td>\n",
       "      <td>9003</td>\n",
       "    </tr>\n",
       "    <tr>\n",
       "      <th>9004</th>\n",
       "      <td>อาหารฟิวชั่น/อาหารญี่ปุ่น/เบเกอรี/เค้ก</td>\n",
       "      <td>9004</td>\n",
       "    </tr>\n",
       "    <tr>\n",
       "      <th>9005</th>\n",
       "      <td>อาหารนานาชาติ/Food Truck/อาหารเช้า</td>\n",
       "      <td>9005</td>\n",
       "    </tr>\n",
       "  </tbody>\n",
       "</table>\n",
       "<p>9006 rows × 2 columns</p>\n",
       "</div>"
      ],
      "text/plain": [
       "                                          category  category_id\n",
       "0                             ของหวาน/เบเกอรี/เค้ก            0\n",
       "1                                       ก๋วยเตี๋ยว            1\n",
       "2                                    อาหารจานเดียว            2\n",
       "3                                      ร้านกาแฟ/ชา            3\n",
       "4                                     เบเกอรี/เค้ก            4\n",
       "...                                            ...          ...\n",
       "9001  ชาบู/สุกี้ยากี้/หม้อไฟ/ปิ้งย่าง/อาหารตามสั่ง         9001\n",
       "9002           บุฟเฟ่ต์/อาหารนานาชาติ/อาหารฟิวชั่น         9002\n",
       "9003               สเต๊ก/อาหารเกาหลี/อาหารอเมริกัน         9003\n",
       "9004        อาหารฟิวชั่น/อาหารญี่ปุ่น/เบเกอรี/เค้ก         9004\n",
       "9005            อาหารนานาชาติ/Food Truck/อาหารเช้า         9005\n",
       "\n",
       "[9006 rows x 2 columns]"
      ]
     },
     "execution_count": 32,
     "metadata": {},
     "output_type": "execute_result"
    }
   ],
   "source": [
    "category_dim"
   ]
  },
  {
   "cell_type": "markdown",
   "metadata": {},
   "source": [
    "Price Level Dimension Table"
   ]
  },
  {
   "cell_type": "code",
   "execution_count": 33,
   "metadata": {},
   "outputs": [],
   "source": [
    "price_level_dim = df[[\"price_level\"]].drop_duplicates().reset_index(drop= True)\n",
    "price_level_dim[\"price_level_id\"] = price_level_dim.index                               # set price_level_id"
   ]
  },
  {
   "cell_type": "code",
   "execution_count": 35,
   "metadata": {},
   "outputs": [
    {
     "data": {
      "text/html": [
       "<div>\n",
       "<style scoped>\n",
       "    .dataframe tbody tr th:only-of-type {\n",
       "        vertical-align: middle;\n",
       "    }\n",
       "\n",
       "    .dataframe tbody tr th {\n",
       "        vertical-align: top;\n",
       "    }\n",
       "\n",
       "    .dataframe thead th {\n",
       "        text-align: right;\n",
       "    }\n",
       "</style>\n",
       "<table border=\"1\" class=\"dataframe\">\n",
       "  <thead>\n",
       "    <tr style=\"text-align: right;\">\n",
       "      <th></th>\n",
       "      <th>price_level</th>\n",
       "      <th>price_level_id</th>\n",
       "    </tr>\n",
       "  </thead>\n",
       "  <tbody>\n",
       "    <tr>\n",
       "      <th>0</th>\n",
       "      <td>lower 100 baht</td>\n",
       "      <td>0</td>\n",
       "    </tr>\n",
       "    <tr>\n",
       "      <th>1</th>\n",
       "      <td>101-250 baht</td>\n",
       "      <td>1</td>\n",
       "    </tr>\n",
       "    <tr>\n",
       "      <th>2</th>\n",
       "      <td>251-500 baht</td>\n",
       "      <td>2</td>\n",
       "    </tr>\n",
       "    <tr>\n",
       "      <th>3</th>\n",
       "      <td>501-1000 baht</td>\n",
       "      <td>3</td>\n",
       "    </tr>\n",
       "    <tr>\n",
       "      <th>4</th>\n",
       "      <td>upper 1000 baht</td>\n",
       "      <td>4</td>\n",
       "    </tr>\n",
       "  </tbody>\n",
       "</table>\n",
       "</div>"
      ],
      "text/plain": [
       "       price_level  price_level_id\n",
       "0   lower 100 baht               0\n",
       "1     101-250 baht               1\n",
       "2     251-500 baht               2\n",
       "3    501-1000 baht               3\n",
       "4  upper 1000 baht               4"
      ]
     },
     "execution_count": 35,
     "metadata": {},
     "output_type": "execute_result"
    }
   ],
   "source": [
    "price_level_dim"
   ]
  },
  {
   "cell_type": "markdown",
   "metadata": {},
   "source": [
    "Chain Dimension Table"
   ]
  },
  {
   "cell_type": "code",
   "execution_count": 37,
   "metadata": {},
   "outputs": [],
   "source": [
    "chain_dim = df[[\"name_chain\"]].dropna().drop_duplicates().reset_index(drop= True)\n",
    "chain_dim[\"chain_id\"] = chain_dim.index                                                     # set chain_id"
   ]
  },
  {
   "cell_type": "code",
   "execution_count": 39,
   "metadata": {},
   "outputs": [
    {
     "data": {
      "text/html": [
       "<div>\n",
       "<style scoped>\n",
       "    .dataframe tbody tr th:only-of-type {\n",
       "        vertical-align: middle;\n",
       "    }\n",
       "\n",
       "    .dataframe tbody tr th {\n",
       "        vertical-align: top;\n",
       "    }\n",
       "\n",
       "    .dataframe thead th {\n",
       "        text-align: right;\n",
       "    }\n",
       "</style>\n",
       "<table border=\"1\" class=\"dataframe\">\n",
       "  <thead>\n",
       "    <tr style=\"text-align: right;\">\n",
       "      <th></th>\n",
       "      <th>name_chain</th>\n",
       "      <th>chain_id</th>\n",
       "    </tr>\n",
       "  </thead>\n",
       "  <tbody>\n",
       "    <tr>\n",
       "      <th>0</th>\n",
       "      <td>Mister Donut (มิสเตอร์ โดนัท)</td>\n",
       "      <td>0</td>\n",
       "    </tr>\n",
       "    <tr>\n",
       "      <th>1</th>\n",
       "      <td>Dairy Queen (แดรี่ควีน)</td>\n",
       "      <td>1</td>\n",
       "    </tr>\n",
       "    <tr>\n",
       "      <th>2</th>\n",
       "      <td>ชายสี่บะหมี่เกี๊ยว</td>\n",
       "      <td>2</td>\n",
       "    </tr>\n",
       "    <tr>\n",
       "      <th>3</th>\n",
       "      <td>Dayicecream</td>\n",
       "      <td>3</td>\n",
       "    </tr>\n",
       "    <tr>\n",
       "      <th>4</th>\n",
       "      <td>Muanchon Coffee (กาแฟมวลชน)</td>\n",
       "      <td>4</td>\n",
       "    </tr>\n",
       "    <tr>\n",
       "      <th>...</th>\n",
       "      <td>...</td>\n",
       "      <td>...</td>\n",
       "    </tr>\n",
       "    <tr>\n",
       "      <th>2060</th>\n",
       "      <td>Gyu-Kaku Japanese BBQ (กิวคาขุ)</td>\n",
       "      <td>2060</td>\n",
       "    </tr>\n",
       "    <tr>\n",
       "      <th>2061</th>\n",
       "      <td>Mrs.Balbir’</td>\n",
       "      <td>2061</td>\n",
       "    </tr>\n",
       "    <tr>\n",
       "      <th>2062</th>\n",
       "      <td>Hooters (ฮูเตอร์ส)</td>\n",
       "      <td>2062</td>\n",
       "    </tr>\n",
       "    <tr>\n",
       "      <th>2063</th>\n",
       "      <td>JW marriott</td>\n",
       "      <td>2063</td>\n",
       "    </tr>\n",
       "    <tr>\n",
       "      <th>2064</th>\n",
       "      <td>MK Gold</td>\n",
       "      <td>2064</td>\n",
       "    </tr>\n",
       "  </tbody>\n",
       "</table>\n",
       "<p>2065 rows × 2 columns</p>\n",
       "</div>"
      ],
      "text/plain": [
       "                           name_chain  chain_id\n",
       "0       Mister Donut (มิสเตอร์ โดนัท)         0\n",
       "1             Dairy Queen (แดรี่ควีน)         1\n",
       "2                  ชายสี่บะหมี่เกี๊ยว         2\n",
       "3                         Dayicecream         3\n",
       "4         Muanchon Coffee (กาแฟมวลชน)         4\n",
       "...                               ...       ...\n",
       "2060  Gyu-Kaku Japanese BBQ (กิวคาขุ)      2060\n",
       "2061                      Mrs.Balbir’      2061\n",
       "2062               Hooters (ฮูเตอร์ส)      2062\n",
       "2063                      JW marriott      2063\n",
       "2064                          MK Gold      2064\n",
       "\n",
       "[2065 rows x 2 columns]"
      ]
     },
     "execution_count": 39,
     "metadata": {},
     "output_type": "execute_result"
    }
   ],
   "source": [
    "chain_dim"
   ]
  },
  {
   "cell_type": "markdown",
   "metadata": {},
   "source": [
    "#### Create Fact Tables"
   ]
  },
  {
   "cell_type": "code",
   "execution_count": 40,
   "metadata": {},
   "outputs": [],
   "source": [
    "# create location column will be used to merge the location_dim table\n",
    "df[\"location\"] = df.apply(concat_column, axis=1)"
   ]
  },
  {
   "cell_type": "code",
   "execution_count": 41,
   "metadata": {},
   "outputs": [],
   "source": [
    "# create fact_table by merging all the dimensions table with the original dataframe\n",
    "fact_table = df.merge(location_dim, on=\"location\") \\\n",
    "               .merge(cluster_dim, on=\"cluster\") \\\n",
    "               .merge(category_dim, on=\"category\") \\\n",
    "               .merge(price_level_dim, on= \"price_level\") \\\n",
    "               .merge(chain_dim, on= \"name_chain\", how=\"left\") # using left join to inclues typical restaurants"
   ]
  },
  {
   "cell_type": "code",
   "execution_count": 42,
   "metadata": {},
   "outputs": [],
   "source": [
    "# subset only neccessary columns\n",
    "fact_table = fact_table[[\"gid\", \"location_id\", \"cluster_id\", \"category_id\", \"price_level_id\", \"chain_id\", \"rating\", \"reviews_nr\"]]"
   ]
  },
  {
   "cell_type": "code",
   "execution_count": 43,
   "metadata": {},
   "outputs": [
    {
     "data": {
      "text/html": [
       "<div>\n",
       "<style scoped>\n",
       "    .dataframe tbody tr th:only-of-type {\n",
       "        vertical-align: middle;\n",
       "    }\n",
       "\n",
       "    .dataframe tbody tr th {\n",
       "        vertical-align: top;\n",
       "    }\n",
       "\n",
       "    .dataframe thead th {\n",
       "        text-align: right;\n",
       "    }\n",
       "</style>\n",
       "<table border=\"1\" class=\"dataframe\">\n",
       "  <thead>\n",
       "    <tr style=\"text-align: right;\">\n",
       "      <th></th>\n",
       "      <th>gid</th>\n",
       "      <th>location_id</th>\n",
       "      <th>cluster_id</th>\n",
       "      <th>category_id</th>\n",
       "      <th>price_level_id</th>\n",
       "      <th>chain_id</th>\n",
       "      <th>rating</th>\n",
       "      <th>reviews_nr</th>\n",
       "    </tr>\n",
       "  </thead>\n",
       "  <tbody>\n",
       "    <tr>\n",
       "      <th>0</th>\n",
       "      <td>09VwpBTRUiuSWzlHXurkDECu4nYpEF</td>\n",
       "      <td>0</td>\n",
       "      <td>0</td>\n",
       "      <td>0</td>\n",
       "      <td>0</td>\n",
       "      <td>0.0</td>\n",
       "      <td>3.09</td>\n",
       "      <td>2</td>\n",
       "    </tr>\n",
       "    <tr>\n",
       "      <th>1</th>\n",
       "      <td>09VwpBTRGtVaL62Tl5Aa9FM5p9p9fd</td>\n",
       "      <td>25</td>\n",
       "      <td>0</td>\n",
       "      <td>0</td>\n",
       "      <td>0</td>\n",
       "      <td>NaN</td>\n",
       "      <td>3.77</td>\n",
       "      <td>12</td>\n",
       "    </tr>\n",
       "    <tr>\n",
       "      <th>2</th>\n",
       "      <td>09VwpBTRUyWJ8cmeIHafV1K6CnAA67</td>\n",
       "      <td>27</td>\n",
       "      <td>0</td>\n",
       "      <td>0</td>\n",
       "      <td>0</td>\n",
       "      <td>0.0</td>\n",
       "      <td>3.54</td>\n",
       "      <td>8</td>\n",
       "    </tr>\n",
       "    <tr>\n",
       "      <th>3</th>\n",
       "      <td>09VxEAUFOal1ITJcBOeZlRLc5R9mzF</td>\n",
       "      <td>27</td>\n",
       "      <td>0</td>\n",
       "      <td>0</td>\n",
       "      <td>0</td>\n",
       "      <td>NaN</td>\n",
       "      <td>4.01</td>\n",
       "      <td>3</td>\n",
       "    </tr>\n",
       "    <tr>\n",
       "      <th>4</th>\n",
       "      <td>09VxIwdxTfU4QO84RFDj5gaIVw7yPx</td>\n",
       "      <td>27</td>\n",
       "      <td>0</td>\n",
       "      <td>0</td>\n",
       "      <td>0</td>\n",
       "      <td>NaN</td>\n",
       "      <td>4.00</td>\n",
       "      <td>1</td>\n",
       "    </tr>\n",
       "    <tr>\n",
       "      <th>...</th>\n",
       "      <td>...</td>\n",
       "      <td>...</td>\n",
       "      <td>...</td>\n",
       "      <td>...</td>\n",
       "      <td>...</td>\n",
       "      <td>...</td>\n",
       "      <td>...</td>\n",
       "      <td>...</td>\n",
       "    </tr>\n",
       "    <tr>\n",
       "      <th>184640</th>\n",
       "      <td>09VwpBTRTQLuTUeOtFMTDqCbKCwhbH</td>\n",
       "      <td>620</td>\n",
       "      <td>2</td>\n",
       "      <td>8725</td>\n",
       "      <td>4</td>\n",
       "      <td>NaN</td>\n",
       "      <td>4.17</td>\n",
       "      <td>55</td>\n",
       "    </tr>\n",
       "    <tr>\n",
       "      <th>184641</th>\n",
       "      <td>09VwpBTRK3E8BU1sxaL1eLhdEIANNL</td>\n",
       "      <td>1187</td>\n",
       "      <td>2</td>\n",
       "      <td>8148</td>\n",
       "      <td>4</td>\n",
       "      <td>1891.0</td>\n",
       "      <td>4.40</td>\n",
       "      <td>41</td>\n",
       "    </tr>\n",
       "    <tr>\n",
       "      <th>184642</th>\n",
       "      <td>09VwpBTRIPmjuaJVA2zPv37BkMfhC9</td>\n",
       "      <td>201</td>\n",
       "      <td>3</td>\n",
       "      <td>2938</td>\n",
       "      <td>4</td>\n",
       "      <td>NaN</td>\n",
       "      <td>4.08</td>\n",
       "      <td>139</td>\n",
       "    </tr>\n",
       "    <tr>\n",
       "      <th>184643</th>\n",
       "      <td>09VwpBTROvxeAsWcuSAX7SU1W7foO6</td>\n",
       "      <td>343</td>\n",
       "      <td>3</td>\n",
       "      <td>8444</td>\n",
       "      <td>4</td>\n",
       "      <td>NaN</td>\n",
       "      <td>4.06</td>\n",
       "      <td>123</td>\n",
       "    </tr>\n",
       "    <tr>\n",
       "      <th>184644</th>\n",
       "      <td>09VwpBTRMGEGdnZBNzxfeu4mumCrzv</td>\n",
       "      <td>356</td>\n",
       "      <td>3</td>\n",
       "      <td>5710</td>\n",
       "      <td>4</td>\n",
       "      <td>NaN</td>\n",
       "      <td>4.03</td>\n",
       "      <td>115</td>\n",
       "    </tr>\n",
       "  </tbody>\n",
       "</table>\n",
       "<p>184645 rows × 8 columns</p>\n",
       "</div>"
      ],
      "text/plain": [
       "                                   gid  location_id  cluster_id  category_id  \\\n",
       "0       09VwpBTRUiuSWzlHXurkDECu4nYpEF            0           0            0   \n",
       "1       09VwpBTRGtVaL62Tl5Aa9FM5p9p9fd           25           0            0   \n",
       "2       09VwpBTRUyWJ8cmeIHafV1K6CnAA67           27           0            0   \n",
       "3       09VxEAUFOal1ITJcBOeZlRLc5R9mzF           27           0            0   \n",
       "4       09VxIwdxTfU4QO84RFDj5gaIVw7yPx           27           0            0   \n",
       "...                                ...          ...         ...          ...   \n",
       "184640  09VwpBTRTQLuTUeOtFMTDqCbKCwhbH          620           2         8725   \n",
       "184641  09VwpBTRK3E8BU1sxaL1eLhdEIANNL         1187           2         8148   \n",
       "184642  09VwpBTRIPmjuaJVA2zPv37BkMfhC9          201           3         2938   \n",
       "184643  09VwpBTROvxeAsWcuSAX7SU1W7foO6          343           3         8444   \n",
       "184644  09VwpBTRMGEGdnZBNzxfeu4mumCrzv          356           3         5710   \n",
       "\n",
       "        price_level_id  chain_id  rating  reviews_nr  \n",
       "0                    0       0.0    3.09           2  \n",
       "1                    0       NaN    3.77          12  \n",
       "2                    0       0.0    3.54           8  \n",
       "3                    0       NaN    4.01           3  \n",
       "4                    0       NaN    4.00           1  \n",
       "...                ...       ...     ...         ...  \n",
       "184640               4       NaN    4.17          55  \n",
       "184641               4    1891.0    4.40          41  \n",
       "184642               4       NaN    4.08         139  \n",
       "184643               4       NaN    4.06         123  \n",
       "184644               4       NaN    4.03         115  \n",
       "\n",
       "[184645 rows x 8 columns]"
      ]
     },
     "execution_count": 43,
     "metadata": {},
     "output_type": "execute_result"
    }
   ],
   "source": [
    "fact_table"
   ]
  },
  {
   "cell_type": "markdown",
   "metadata": {},
   "source": [
    "#### Export all the tables as CSV file"
   ]
  },
  {
   "cell_type": "code",
   "execution_count": null,
   "metadata": {},
   "outputs": [],
   "source": [
    "fact_table.to_csv(\"review.csv\")\n",
    "restaurant_dim.to_csv(\"restaurant.csv\")\n",
    "location_dim.to_csv(\"location.csv\")\n",
    "price_level_dim.to_csv(\"price_level.csv\")\n",
    "category_dim.to_csv(\"category.csv\")\n",
    "cluster_dim.to_csv(\"cluster.csv\")\n",
    "chain_dim.to_csv(\"chain.csv\")"
   ]
  },
  {
   "cell_type": "markdown",
   "metadata": {},
   "source": [
    "After done exporting, I will use R (the codes are available in the same folder) to upload all the csv files into the PosgreSQL cloud database on [Neon platform](https://console.neon.tech/)."
   ]
  },
  {
   "cell_type": "markdown",
   "metadata": {},
   "source": []
  }
 ],
 "metadata": {
  "kernelspec": {
   "display_name": "Python 3",
   "language": "python",
   "name": "python3"
  },
  "language_info": {
   "codemirror_mode": {
    "name": "ipython",
    "version": 3
   },
   "file_extension": ".py",
   "mimetype": "text/x-python",
   "name": "python",
   "nbconvert_exporter": "python",
   "pygments_lexer": "ipython3",
   "version": "3.11.5"
  },
  "orig_nbformat": 4
 },
 "nbformat": 4,
 "nbformat_minor": 2
}
